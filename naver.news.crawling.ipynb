{
 "cells": [
  {
   "cell_type": "markdown",
   "id": "c1430612",
   "metadata": {},
   "source": [
    "# Selenium을 이용한 크롤링"
   ]
  },
  {
   "cell_type": "code",
   "execution_count": 1,
   "id": "a3abb4eb",
   "metadata": {},
   "outputs": [],
   "source": [
    "import requests\n",
    "from bs4 import BeautifulSoup\n",
    "from selenium import webdriver\n",
    "from selenium.webdriver.common.keys import Keys "
   ]
  },
  {
   "cell_type": "code",
   "execution_count": 2,
   "id": "3f88f08b",
   "metadata": {},
   "outputs": [],
   "source": [
    "driver = webdriver.Chrome()"
   ]
  },
  {
   "cell_type": "code",
   "execution_count": 3,
   "id": "35689e8a",
   "metadata": {},
   "outputs": [],
   "source": [
    "driver.get(\"https://naver.com\")"
   ]
  },
  {
   "cell_type": "code",
   "execution_count": 4,
   "id": "0230e40d",
   "metadata": {},
   "outputs": [
    {
     "name": "stdout",
     "output_type": "stream",
     "text": [
      "<selenium.webdriver.remote.webelement.WebElement (session=\"a5f9a781e9e0badfa43bb16d5f85265c\", element=\"c634659b-11fa-40d8-a983-014ab36679b4\")>\n"
     ]
    },
    {
     "name": "stderr",
     "output_type": "stream",
     "text": [
      "C:\\Users\\bitcamp\\AppData\\Local\\Temp/ipykernel_6728/2554428222.py:1: DeprecationWarning: find_element_by_* commands are deprecated. Please use find_element() instead\n",
      "  elem = driver.find_element_by_id(\"query\")\n"
     ]
    }
   ],
   "source": [
    "elem = driver.find_element_by_id(\"query\")"
   ]
  },
  {
   "cell_type": "code",
   "execution_count": 5,
   "id": "36eb4d2d",
   "metadata": {},
   "outputs": [],
   "source": [
    "elem.send_keys('빅데이터')"
   ]
  },
  {
   "cell_type": "code",
   "execution_count": 6,
   "id": "95c33e2d",
   "metadata": {},
   "outputs": [],
   "source": [
    "elem.send_keys(Keys.RETURN)"
   ]
  },
  {
   "cell_type": "code",
   "execution_count": 7,
   "id": "5106a1b7",
   "metadata": {},
   "outputs": [
    {
     "name": "stderr",
     "output_type": "stream",
     "text": [
      "C:\\Users\\bitcamp\\AppData\\Local\\Temp/ipykernel_6728/800661838.py:2: DeprecationWarning: find_element_by_* commands are deprecated. Please use find_element() instead\n",
      "  driver.find_element_by_css_selector(path).click()\n"
     ]
    }
   ],
   "source": [
    "path = \"#lnb > div.lnb_group > div > ul > li:nth-child(4) > a\"\n",
    "driver.find_element_by_css_selector(path).click()"
   ]
  },
  {
   "cell_type": "code",
   "execution_count": 9,
   "id": "bfad3d11",
   "metadata": {},
   "outputs": [],
   "source": [
    "html = driver.page_source"
   ]
  },
  {
   "cell_type": "code",
   "execution_count": 10,
   "id": "9e1eafd3",
   "metadata": {},
   "outputs": [],
   "source": [
    "soup = BeautifulSoup(html, \"html.parser\")"
   ]
  },
  {
   "cell_type": "code",
   "execution_count": null,
   "id": "7db17d31",
   "metadata": {},
   "outputs": [],
   "source": [
    "# 검색어를 입력한 후 게시물의 제목, 지역, 헤시태그를 출력.."
   ]
  },
  {
   "cell_type": "code",
   "execution_count": 27,
   "id": "555af9d9",
   "metadata": {},
   "outputs": [],
   "source": [
    "driver = webdriver.Chrome()"
   ]
  },
  {
   "cell_type": "code",
   "execution_count": 45,
   "id": "b58debf6",
   "metadata": {},
   "outputs": [],
   "source": [
    "driver.get(\"https://korean.visitkorea.or.kr/main/main.do#home\")"
   ]
  },
  {
   "cell_type": "code",
   "execution_count": 48,
   "id": "680a7bf6",
   "metadata": {},
   "outputs": [
    {
     "name": "stderr",
     "output_type": "stream",
     "text": [
      "C:\\Users\\bitcamp\\AppData\\Local\\Temp/ipykernel_6728/554383320.py:1: DeprecationWarning: find_element_by_* commands are deprecated. Please use find_element() instead\n",
      "  elem = driver.find_element_by_id(\"searchInput\")\n"
     ]
    }
   ],
   "source": [
    "elem = driver.find_element_by_id(\"searchInput\")"
   ]
  },
  {
   "cell_type": "code",
   "execution_count": 49,
   "id": "aa5e4798",
   "metadata": {},
   "outputs": [],
   "source": [
    "elem.send_keys(\"제주도\")"
   ]
  },
  {
   "cell_type": "code",
   "execution_count": 50,
   "id": "f2d57c4b",
   "metadata": {},
   "outputs": [],
   "source": [
    "elem.send_keys(Keys.RETURN)"
   ]
  },
  {
   "cell_type": "code",
   "execution_count": 51,
   "id": "cacaa2cf",
   "metadata": {},
   "outputs": [],
   "source": [
    "html = driver.page_source"
   ]
  },
  {
   "cell_type": "code",
   "execution_count": 112,
   "id": "50e91ce6",
   "metadata": {},
   "outputs": [
    {
     "name": "stdout",
     "output_type": "stream",
     "text": [
      " [국내 트레킹 추천] 제주 올레길 걷기 여행, 준비부터 코스 선택까지 꿀팁 총정리! \n",
      " 제주도   \n",
      "#제주올레길#트레킹코스#트레킹#제주가볼만한곳#제주여행#걷기여행 \n",
      "\n",
      "\n",
      "\n",
      " 탄소 없는 섬, 제주의 미래를 만나다_제주CFI에너지미래관 \n",
      " 제주도 제주시   \n",
      "#2021_산업관광12선#제주CFI에너지미래관#제주가볼만한곳#산업관광지#신재생에너지 \n",
      "\n",
      "\n",
      "\n",
      " 제주도 조천읍 버킷리스트 여행지 작성하기 \n",
      " 제주도 제주시   \n",
      "#제주여행#제주가볼만한곳#스위스마을#제주스위스마을#교래자연휴양림#자연휴양림#산굼부리#제주산굼부리#해안누리길#닭머르해안길 \n",
      "\n",
      "\n",
      "\n",
      " 보석 같은 섬에 예술을 덧입히다, 제주 추자도 \n",
      " 제주도 제주시   \n",
      "#2020년11월추천가볼만한곳#11월추천가볼만한곳#추천가볼만한곳#11월가볼만한곳#문화예술#섬#제주여행#제주가볼만한곳#공공누리#추자도 \n",
      "\n",
      "\n",
      "\n",
      "\n",
      " 나만 알고 싶은 제주 액티비티 ① 원시 숲과 벵뒤못과 밀리터리 카, 어디에도 없던 리얼 오프로드의 세계 \n",
      " 제주도 제주시   \n",
      "#제주여행#제주가볼만한곳#액티비티#액티비티여행#체험여행#오프로드체험#제라진캠프#숲#웃밤오름#방송촬영지#촬영지#CF촬영지#공공누리 \n",
      "\n",
      "\n",
      "\n",
      " 김창열의 회귀 철학을 건축으로 표현한 미술관, 제주도립김창열미술관 \n",
      " 제주도 제주시   \n",
      "#2021년4월추천가볼만한곳#4월추천가볼만한곳#추천가볼만한곳#4월가볼만한곳#제주여행#제주가볼만한곳#미술관#제주도립김창열미술관#김창열미술관#제주현대미술관#성이시돌목장#왕이메오름#숲길#공공누리#봄에아름다운건축물 \n",
      "\n",
      "\n",
      "\n",
      " 확실하게 쉬고! 화끈하게 놀기! 플레이스 캠프 제주 \n",
      " 제주도 서귀포시   \n",
      "#플레이스캠프제주#제주가볼만한곳#제주여행#신나게놀면_그게전부#숙박쿠폰#숙박대전_추천기사 \n",
      "\n",
      "\n",
      "\n",
      " 2021 생활관광 공모전 포토에세이 장려상 - 조아현(제주도) \n",
      " 제주도    \n",
      "#생활관광#생활관광공모전#생활관광공모전포토에세이#제주도#제주도여행#제주도가볼만한곳 \n",
      "\n",
      "\n",
      "\n",
      " 해녀가 되어 바닷속을 누벼볼까!제주 하도어촌체험마을 \n",
      " 제주도 제주시   \n",
      "#2020년9월추천가볼만한곳#9월추천가볼만한곳#추천가볼만한곳#9월가볼만한곳#수상레포츠#제주여행#제주가볼만한곳#공공누리#어촌체험#체험여행 \n",
      "\n",
      "\n",
      "\n",
      " 제주도 '한정'여행지, 제주도의 이색 공간을 찾아서 \n",
      " 제주도    \n",
      "#제주여행#제주가볼만한곳#김영갑갤러리#김영갑갤러리두모악#제주김영갑갤러리두모악#김택화미술관#제주돌문화공원#아르떼뮤지엄#항공우주박물관#제주항공우주박물관 \n",
      "\n",
      "\n",
      "\n"
     ]
    }
   ],
   "source": [
    "soup = BeautifulSoup(html, \"html.parser\")\n",
    "\n",
    "ul = soup.select(\"ul.list_thumType\")[0]\n",
    "li = ul.select(\"li\")\n",
    "for i in li:\n",
    "    title = \"\"\n",
    "    location = \"\"\n",
    "    tags = \"\"\n",
    "    if i.select(\"div.tit\"):\n",
    "        title = i.select(\"div.tit\")[0].text\n",
    "        print(title)\n",
    "    if i.select(\"div.service\"):\n",
    "        location = i.select(\"div.service\")[0].text\n",
    "        print(location)\n",
    "    if i.select(\"p.tag_type\"):\n",
    "        tags = i.select(\"p.tag_type\")[0].text\n",
    "        print(tags)\n",
    "        \n",
    "    print()\n",
    "        "
   ]
  },
  {
   "cell_type": "code",
   "execution_count": 108,
   "id": "e6a05c53",
   "metadata": {},
   "outputs": [],
   "source": [
    "# title, location, tags 본문..."
   ]
  },
  {
   "cell_type": "code",
   "execution_count": null,
   "id": "127b67f5",
   "metadata": {},
   "outputs": [],
   "source": []
  },
  {
   "cell_type": "code",
   "execution_count": 109,
   "id": "bfc0a3e5",
   "metadata": {},
   "outputs": [
    {
     "ename": "NameError",
     "evalue": "name 'find_element_vy_class_name' is not defined",
     "output_type": "error",
     "traceback": [
      "\u001b[1;31m---------------------------------------------------------------------------\u001b[0m",
      "\u001b[1;31mNameError\u001b[0m                                 Traceback (most recent call last)",
      "\u001b[1;32m~\\AppData\\Local\\Temp/ipykernel_6728/2861259732.py\u001b[0m in \u001b[0;36m<module>\u001b[1;34m\u001b[0m\n\u001b[0;32m      1\u001b[0m \u001b[1;31m# selenium 정리.. 태그 => element\u001b[0m\u001b[1;33m\u001b[0m\u001b[1;33m\u001b[0m\u001b[0m\n\u001b[0;32m      2\u001b[0m \u001b[1;33m\u001b[0m\u001b[0m\n\u001b[1;32m----> 3\u001b[1;33m \u001b[0mfind_element_vy_class_name\u001b[0m\u001b[1;33m(\u001b[0m\u001b[1;34m'class'\u001b[0m\u001b[1;33m)\u001b[0m\u001b[1;33m\u001b[0m\u001b[1;33m\u001b[0m\u001b[0m\n\u001b[0m\u001b[0;32m      4\u001b[0m \u001b[0mfind_element_vy_class_name\u001b[0m\u001b[1;33m(\u001b[0m\u001b[1;34m'class'\u001b[0m\u001b[1;33m)\u001b[0m\u001b[1;33m\u001b[0m\u001b[1;33m\u001b[0m\u001b[0m\n",
      "\u001b[1;31mNameError\u001b[0m: name 'find_element_vy_class_name' is not defined"
     ]
    }
   ],
   "source": [
    "# selenium 정리.. 태그 => element\n",
    "\n",
    "# elem = find_element_by_class_name()\n",
    "# elem = find_element_by_id()\n",
    "# elem = find_element_by_xpath()\n",
    "# elem = find_element_by_link_text()\n",
    "# elem = find_element_by_partial_link_text()\n",
    "# elem = find_element_by_name()\n",
    "# elem = find_element_by_tag_name()\n",
    "\n",
    "# elem = find_elements_by_class_name()\n",
    "# elem = find_elements_by_id()\n",
    "# elem = find_elements_by_xpath()\n",
    "# elem = find_elements_by_link_text()\n",
    "# elem = find_elements_by_partial_link_text()\n",
    "# elem = find_elements_by_name()\n",
    "# elem = find_elements_by_tag_name()\n"
   ]
  },
  {
   "cell_type": "code",
   "execution_count": null,
   "id": "c56f099c",
   "metadata": {},
   "outputs": [],
   "source": []
  },
  {
   "cell_type": "code",
   "execution_count": null,
   "id": "81eca125",
   "metadata": {},
   "outputs": [],
   "source": []
  },
  {
   "cell_type": "code",
   "execution_count": null,
   "id": "e59d38d0",
   "metadata": {},
   "outputs": [],
   "source": []
  },
  {
   "cell_type": "code",
   "execution_count": null,
   "id": "2c5e2dbe",
   "metadata": {},
   "outputs": [],
   "source": []
  },
  {
   "cell_type": "code",
   "execution_count": null,
   "id": "8c656550",
   "metadata": {},
   "outputs": [],
   "source": []
  },
  {
   "cell_type": "code",
   "execution_count": null,
   "id": "cb652dc8",
   "metadata": {},
   "outputs": [],
   "source": []
  },
  {
   "cell_type": "code",
   "execution_count": null,
   "id": "c795665e",
   "metadata": {},
   "outputs": [],
   "source": []
  }
 ],
 "metadata": {
  "kernelspec": {
   "display_name": "Python 3 (ipykernel)",
   "language": "python",
   "name": "python3"
  },
  "language_info": {
   "codemirror_mode": {
    "name": "ipython",
    "version": 3
   },
   "file_extension": ".py",
   "mimetype": "text/x-python",
   "name": "python",
   "nbconvert_exporter": "python",
   "pygments_lexer": "ipython3",
   "version": "3.9.7"
  }
 },
 "nbformat": 4,
 "nbformat_minor": 5
}
