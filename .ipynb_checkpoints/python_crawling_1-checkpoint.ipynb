{
 "cells": [
  {
   "cell_type": "code",
   "execution_count": 1,
   "id": "d3c9f456",
   "metadata": {},
   "outputs": [],
   "source": [
    "from bs4 import BeautifulSoup\n",
    "import requests"
   ]
  },
  {
   "cell_type": "code",
   "execution_count": 120,
   "id": "623408a6",
   "metadata": {
    "scrolled": true
   },
   "outputs": [
    {
     "name": "stdout",
     "output_type": "stream",
     "text": [
      "Title :  Jackass Forever (2022)\n",
      "Genres : ['Documentary', 'Action', 'Comedy']\n",
      "\n",
      "After 11 years, the Jackass crew is back for their final crusade\n",
      "\n",
      "Director : Jeff Tremaine\n",
      "stars : ['Johnny Knoxville', 'Steve-O', 'Chris Pontius', 'Eric André']\n",
      "Time : 96 min\n",
      "==================================================\n",
      "Title :  더 블랙 폰 (2021)\n",
      "Genres : ['15']\n",
      "\n",
      "After being abducted by a child killer and locked in a soundproof basement, a 13-year-old boy starts receiving calls on a disconnected phone from the killer's previous victims\n",
      "\n",
      "Director : Scott Derrickson\n",
      "stars : ['Ethan Hawke', 'Jeremy Davies', 'James Ransone', 'Madeleine McGraw']\n",
      "Time : 102 min\n",
      "==================================================\n",
      "Title :  Moonfall (2022)\n",
      "Genres : ['Action', 'Adventure', 'Fantasy', 'Sci-Fi']\n",
      "\n",
      "In Moonfall, a mysterious force knocks the Moon from its orbit around Earth and sends it hurdling on a collision course with life as we know it. With mere weeks before impact and the world on the brink of annihilation, NASA executive and former astronaut Jo Fowler is convinced she has the key to saving us all - but only one astronaut from her past, Brian Harper and a conspiracy theorist K.C. Houseman believe her. These unlikely heroes will mount an impossible last-ditch mission into space, leaving behind everyone they love, only to find that they might have prepared for the wrong mission\n",
      "\n",
      "Director : Roland Emmerich\n",
      "stars : ['Halle Berry', 'Patrick Wilson', 'John Bradley', 'Michael Peña']\n",
      "Time : 120 min\n",
      "==================================================\n",
      "Title :  Death on the Nile (2022)\n",
      "Genres : ['Crime', 'Drama', 'Mystery']\n",
      "\n",
      "While on vacation on the Nile, Hercule Poirot must investigate the murder of a young heiress\n",
      "\n",
      "Director : Kenneth Branagh\n",
      "stars : ['Kenneth Branagh', 'Gal Gadot', 'Tom Bateman', 'Rose Leslie']\n",
      "Time : 127 min\n",
      "==================================================\n",
      "Title :  Blacklight (2022)\n",
      "Genres : ['Action', 'Thriller']\n",
      "\n",
      "Travis Block is a government operative coming to terms with his shadowy past. When he discovers a plot targeting U.S. citizens, Block finds himself in the crosshairs of the FBI director he once helped protect\n",
      "\n",
      "Director : Mark Williams\n",
      "stars : ['Liam Neeson', 'Aidan Quinn', 'Taylor John Smith', 'Emmy Raver-Lampman']\n",
      "Time : 108 min\n",
      "==================================================\n",
      "Title :  Catwoman: Hunted (2022)\n",
      "Genres : ['Animation', 'Action', 'Sci-Fi']\n",
      "\n",
      "Follows Catwoman in an attempt to steal a priceless jewel. This puts her squarely in the crosshairs of both a powerful consortium of villains, Interpol and Batwoman\n",
      "\n",
      "Director : Shinsuke Terasawa\n",
      "stars : ['Stephanie Beatriz', 'Lauren Cohan', 'Kelly Hu', 'Jonathan Banks']\n",
      "Time : Doesn't exist.\n",
      "==================================================\n",
      "Title :  Marry Me (2022)\n",
      "Genres : ['Comedy', 'Music', 'Romance']\n",
      "\n",
      "Music superstars Kat Valdez and Bastian are getting married before a global audience of fans. But when Kat learns, seconds before her vows, that Bastian has been unfaithful, she decides to marry Charlie, a stranger in the crowd, instead\n",
      "\n",
      "Director : Kat Coiro\n",
      "stars : ['John Bradley', 'Owen Wilson', 'Jennifer Lopez', 'Utkarsh Ambudkar']\n",
      "Time : 112 min\n",
      "==================================================\n",
      "Title :  What About Love (2023)\n",
      "Genres : ['Drama', 'Romance']\n",
      "\n",
      "Two young lovers change the lives of their parents forever when the parents learn from the joyful experience of their kids, and allow themselves to again find their love\n",
      "\n",
      "Director : Klaus Menzel\n",
      "stars : ['Sharon Stone', 'Andy Garcia', 'Rosabell Laurenti Sellers', 'Marielle Jaffe']\n",
      "Time : 114 min\n",
      "==================================================\n",
      "Title :  The Devil's Light (2022)\n",
      "Genres : ['Horror', 'Thriller']\n",
      "\n",
      "A nun prepares to perform an exorcism and comes face to face with a demonic force with mysterious ties to her past\n",
      "\n",
      "Director : Daniel Stamm\n",
      "stars : ['Virginia Madsen', 'Nicholas Ralph', 'Christian Navarro', 'Colin Salmon']\n",
      "Time : 93 min\n",
      "==================================================\n",
      "Title :  The Amazing Maurice\n",
      "Genres : ['Animation', 'Family']\n",
      "\n",
      "This story follows Maurice, a streetwise cat, who has the perfect money-making scam. He finds a dumb-looking kid who plays a pipe and has his very own horde of rats, who are strangely literate\n",
      "\n",
      "Director : Toby Genkel\n",
      "stars : ['Hugh Laurie', 'Emilia Clarke', 'David Thewlis', 'Himesh Patel']\n",
      "Time : 84 min\n",
      "==================================================\n",
      "Title :  Uncharted (2022)\n",
      "Genres : ['Action', 'Adventure']\n",
      "\n",
      "The story is a prequel to the games, starring Holland as a younger Drake, showing us details of how he came to meet and befriend Sully\n",
      "\n",
      "Director : Ruben Fleischer\n",
      "stars : ['Tom Holland', 'Mark Wahlberg', 'Sophia Ali', 'Antonio Banderas']\n",
      "Time : Doesn't exist.\n",
      "==================================================\n",
      "Title :  럼블 (2021)\n",
      "Genres : ['Animation', 'Comedy', 'Family', 'Fantasy', 'Sport']\n",
      "\n",
      "In a world where monster wrestling is a global sport and monsters are superstar athletes, teenage Winnie seeks to follow in her father's footsteps by coaching a loveable underdog monster into a champion\n",
      "\n",
      "Director : Hamish Grieve\n",
      "stars : ['Geraldine Viswanathan', 'Will Arnett', 'Stephen A. Smith', 'Terry Crews']\n",
      "Time : 104 min\n",
      "==================================================\n",
      "Title :  Ambulance (2022)\n",
      "Genres : ['Action', 'Crime', 'Drama', 'Thriller']\n",
      "\n",
      "Two robbers steal an ambulance after their heist goes awry\n",
      "\n",
      "Director : Michael Bay\n",
      "stars : ['Jake Gyllenhaal', 'Eiza González', 'Yahya Abdul-Mateen II', 'Devan Chandler Long']\n",
      "Time : Doesn't exist.\n",
      "==================================================\n",
      "Title :  Dog (2022)\n",
      "Genres : ['Comedy']\n",
      "\n",
      "Briggs who, alongside his companion Lulu, a Belgian Malinois haul ass down the Pacific Coast in time to catch their best friend's and handler's funeral. One of them has a week to live, the other lives like every day is his last\n",
      "\n",
      "Director : Reid Carolin\n",
      "stars : ['Channing Tatum', \"Q'orianka Kilcher\", 'Kevin Nash', 'Jane Adams']\n",
      "Time : 90 min\n",
      "==================================================\n",
      "Title :  The Ghosts of Borley Rectory (2021)\n",
      "Genres : ['Drama', 'Horror', 'Mystery', 'Thriller']\n",
      "\n",
      "Harry Price investigates the ghosts of Borley Rectory during his stay there\n",
      "\n",
      "Director : Steven M. Smith\n",
      "stars : ['Toby Wynn-Davies', 'Julian Sands', 'Colin Baker', 'Christopher Ellison']\n",
      "Time : 80 min\n",
      "==================================================\n",
      "Title :  The Outfit (2022)\n",
      "Genres : ['Crime', 'Drama']\n",
      "\n",
      "An expert tailor must outwit a dangerous group of mobsters in order to survive a fateful night\n",
      "\n",
      "Director : Graham Moore\n",
      "stars : ['Mark Rylance', 'Zoey Deutch', \"Dylan O'Brien\", 'Johnny Flynn']\n",
      "Time : 105 min\n",
      "==================================================\n",
      "Title :  마더링 선데이 (2021)\n",
      "Genres : ['Drama', 'Romance']\n",
      "\n",
      "A maid living in post-World War I England secretly plans to meet with the man she loves before he leaves to marry another woman\n",
      "\n",
      "Director : Eva Husson\n",
      "stars : ['Odessa Young', \"Josh O'Connor\", 'Colin Firth', 'Olivia Colman']\n",
      "Time : 104 min\n",
      "==================================================\n"
     ]
    }
   ],
   "source": [
    "url = \"https://www.imdb.com/movies-coming-soon/2022-02\"\n",
    "\n",
    "res = requests.get(url)\n",
    "soup = BeautifulSoup(res.text, \"html.parser\")\n",
    "tables = soup.select(\"table.nm-title-overview-widget-layout\")\n",
    "\n",
    "li = []\n",
    "for table in tables:\n",
    "    genres = []\n",
    "    stars = []\n",
    "    title = table.select(\"h4\")[0].text\n",
    "    rows = table.select(\"p.cert-runtime-genre\")[0].select(\"span\")\n",
    "    for row in range(len(rows)):\n",
    "        if row%2 == 0:\n",
    "            genres.append(rows[row].text)\n",
    "    outline = table.select(\"div.outline\")[0].text.strip().strip(\"'.\")\n",
    "    director = table.select(\"div.txt-block\")[0].select(\"a\")[0].text\n",
    "    rows = table.select(\"div.txt-block\")[1].select(\"a\")\n",
    "    for row in rows:\n",
    "        stars.append(row.text)\n",
    "    time = table.select(\"p.cert-runtime-genre\")[0].select(\"time\")\n",
    "    if time:\n",
    "        time = time[0].text\n",
    "    else:\n",
    "        time = \"Doesn't exist.\"\n",
    "    li.append({\"title\": title, \"genre\": [genre for genre in genres], \"outline\": outline, \"director\" : director, \"stars\": [star for star in stars], \"time\": time})\n",
    "\n",
    "for i in li:\n",
    "    print(\"Title :\", i['title'])\n",
    "    print(\"Genres :\", i['genre'])\n",
    "    print()\n",
    "    print(i['outline'])\n",
    "    print()\n",
    "    print(\"Director :\",i['director'])\n",
    "    print(\"stars :\", i['stars'])\n",
    "    print(\"Time :\", i[\"time\"])\n",
    "    print(\"=\" * 50)"
   ]
  },
  {
   "cell_type": "code",
   "execution_count": null,
   "id": "d3e4416a",
   "metadata": {},
   "outputs": [],
   "source": []
  },
  {
   "cell_type": "code",
   "execution_count": 132,
   "id": "12b071a4",
   "metadata": {},
   "outputs": [],
   "source": [
    "url = \"https://xkcd.com/\""
   ]
  },
  {
   "cell_type": "code",
   "execution_count": 145,
   "id": "202fbda8",
   "metadata": {},
   "outputs": [
    {
     "name": "stdout",
     "output_type": "stream",
     "text": [
      "//imgs.xkcd.com/comics/captain_picard_tea_order.png\n"
     ]
    }
   ],
   "source": [
    "res = requests.get(url)\n",
    "soup = BeautifulSoup(res.text, \"html.parser\")\n",
    "div = soup.select(\"div#comic\")[0]\n",
    "\n",
    "print(div.select(\"img\")[0]['src'])"
   ]
  },
  {
   "cell_type": "code",
   "execution_count": null,
   "id": "66352092",
   "metadata": {},
   "outputs": [],
   "source": []
  },
  {
   "cell_type": "code",
   "execution_count": 146,
   "id": "e56c2b9a",
   "metadata": {},
   "outputs": [],
   "source": [
    "# xkcd.com에서 2560~2569 번 이미지 크롤링 하기"
   ]
  },
  {
   "cell_type": "code",
   "execution_count": 171,
   "id": "6c24d5f7",
   "metadata": {},
   "outputs": [],
   "source": [
    "import urllib.request\n",
    "\n",
    "for i in range(2560 ,2570):\n",
    "    url = f\"https://xkcd.com/{i}/\"\n",
    "    res = requests.get(url)\n",
    "    soup = BeautifulSoup(res.text, 'html.parser')\n",
    "    div = soup.select(\"div#comic\")[0]\n",
    "    src = div.select(\"img\")[0]['src']\n",
    "    url = f\"http:{src}\"\n",
    "    urllib.request.urlretrieve(url, f\"./Cravling_img_file/img_file{i}.png\")"
   ]
  },
  {
   "cell_type": "code",
   "execution_count": null,
   "id": "49abe1b7",
   "metadata": {},
   "outputs": [],
   "source": []
  },
  {
   "cell_type": "code",
   "execution_count": 172,
   "id": "294f5317",
   "metadata": {},
   "outputs": [],
   "source": [
    "# 네이버 영화 평점 및 후기 크롤링..\n",
    "# https://movie.naver.com/movie/point/af/list.naver"
   ]
  },
  {
   "cell_type": "code",
   "execution_count": 173,
   "id": "d67814d8",
   "metadata": {},
   "outputs": [],
   "source": [
    "# 10 page까지..\n",
    "# 제목, 평점, 후기, 날짜"
   ]
  },
  {
   "cell_type": "code",
   "execution_count": 310,
   "id": "dae3873d",
   "metadata": {},
   "outputs": [
    {
     "name": "stdout",
     "output_type": "stream",
     "text": [
      "제목: 도쿄 리벤저스\n",
      "점수: 8\n",
      "원작 모르는데 재밌게 봤어요\n",
      "날짜: 22.01.20\n",
      "================================================================================\n",
      "제목: 미드나이트\n",
      "점수: 10\n",
      " 하준 오빠 사이코패스 연기 진짜 소름 돋게 봤습니다 진짜.. 다시 봐도 개꿀 잼이고요 저 영화 3번 이상 돌려봤어요.. ㄷ 미드나이트 꼭 보시길 바래요.. ㄷ 현재 드라마 중인 배드 앤 크레이지 파이팅!!\n",
      "날짜: 22.01.20\n",
      "================================================================================\n",
      "제목: 블랙 팬서\n",
      "점수: 10\n",
      "닝겐들아 솔직히 돌아가신 사람 영화에 7점을 주면 어떻해이 미련한 것들아!\n",
      "날짜: 22.01.20\n",
      "================================================================================\n",
      "제목: 쥬라기 공원 2 - 잃어버린 세계\n",
      "점수: 2\n",
      "여주인공 다른 영화 발암캐랑 비교해도 손색없이 암걸리게합니다 ㅎㅎ 그린피스의 가식적인 정의도 잘 그려낸듯 \n",
      "날짜: 22.01.20\n",
      "================================================================================\n",
      "제목: 스파이더맨: 노 웨이 홈\n",
      "점수: 6\n",
      "추억팔이\n",
      "날짜: 22.01.20\n",
      "================================================================================\n",
      "제목: 하우스 오브 구찌\n",
      "점수: 8\n",
      "구찌 가족 이야기를 차근차근 잘 풀어간 영화. 한번 더 보고싶다.\n",
      "날짜: 22.01.20\n",
      "================================================================================\n",
      "제목: 어나더 라운드\n",
      "점수: 10\n",
      "가득 차 있지 않은 잔이가장 평온할수도 있다는 생각을 준 영화\n",
      "날짜: 22.01.20\n",
      "================================================================================\n",
      "제목: 특송\n",
      "점수: 6\n",
      "배우들 연기는 다 뛰어납니다. 첫컷 카체이싱도 괜찮은 연출이었구요 주인공 은하가 스토리를 풀어나갈때 동기부여가 좀 빈약한게 흠입니다\n",
      "날짜: 22.01.20\n",
      "================================================================================\n",
      "제목: 앤트맨\n",
      "점수: 10\n",
      "와 이렇게 웃기고 코딱지 만한 히어로는 본적이 없네그리고 밟으면 걍 터지지 않나??악당들은 참 멍청해요~~~\n",
      "날짜: 22.01.20\n",
      "================================================================================\n",
      "제목: 여름날 우리\n",
      "점수: 10\n",
      "영화죽이네요. 진짜 인생영화...여자주인공 트와이스 나연닮음 너무예뻐서 완전 감정이입해서 봤습니다. 두고두고 다시보고싶은영화\n",
      "날짜: 22.01.20\n",
      "================================================================================\n"
     ]
    }
   ],
   "source": [
    "url = \"https://movie.naver.com/movie/point/af/list.naver\"\n",
    "res = requests.get(url)\n",
    "soup = BeautifulSoup(res.text, \"html.parser\")\n",
    "table = soup.select(\"table.list_netizen\")[0]\n",
    "trs = table.select(\"tr\")\n",
    "for tr in trs[1:]:\n",
    "    li = []\n",
    "    title = tr.select(\"td.title\")[0].select(\"a\")[0].text\n",
    "    score = tr.select(\"em\")[0].text\n",
    "    date = tr.select(\"td.num\")[1].text[-8:]\n",
    "    text = tr.select(\"td.title\")[0].select(\"a\")[1][\"onclick\"].split(\",\")[2].strip().strip(\"'\")\n",
    "    \n",
    "    print(f\"제목: {t itle}\")\n",
    "    print(f\"점수: {score}\")\n",
    "    print(text)\n",
    "    print(f\"날짜: {date}\")\n",
    "    print(\"=\" * 80)\n",
    "\n"
   ]
  },
  {
   "cell_type": "code",
   "execution_count": 315,
   "id": "aba2d05f",
   "metadata": {},
   "outputs": [
    {
     "ename": "ConnectionError",
     "evalue": "('Connection aborted.', RemoteDisconnected('Remote end closed connection without response'))",
     "output_type": "error",
     "traceback": [
      "\u001b[1;31m---------------------------------------------------------------------------\u001b[0m",
      "\u001b[1;31mRemoteDisconnected\u001b[0m                        Traceback (most recent call last)",
      "\u001b[1;32m~\\anaconda3\\lib\\site-packages\\urllib3\\connectionpool.py\u001b[0m in \u001b[0;36murlopen\u001b[1;34m(self, method, url, body, headers, retries, redirect, assert_same_host, timeout, pool_timeout, release_conn, chunked, body_pos, **response_kw)\u001b[0m\n\u001b[0;32m    698\u001b[0m             \u001b[1;31m# Make the request on the httplib connection object.\u001b[0m\u001b[1;33m\u001b[0m\u001b[1;33m\u001b[0m\u001b[0m\n\u001b[1;32m--> 699\u001b[1;33m             httplib_response = self._make_request(\n\u001b[0m\u001b[0;32m    700\u001b[0m                 \u001b[0mconn\u001b[0m\u001b[1;33m,\u001b[0m\u001b[1;33m\u001b[0m\u001b[1;33m\u001b[0m\u001b[0m\n",
      "\u001b[1;32m~\\anaconda3\\lib\\site-packages\\urllib3\\connectionpool.py\u001b[0m in \u001b[0;36m_make_request\u001b[1;34m(self, conn, method, url, timeout, chunked, **httplib_request_kw)\u001b[0m\n\u001b[0;32m    444\u001b[0m                     \u001b[1;31m# Otherwise it looks like a bug in the code.\u001b[0m\u001b[1;33m\u001b[0m\u001b[1;33m\u001b[0m\u001b[0m\n\u001b[1;32m--> 445\u001b[1;33m                     \u001b[0msix\u001b[0m\u001b[1;33m.\u001b[0m\u001b[0mraise_from\u001b[0m\u001b[1;33m(\u001b[0m\u001b[0me\u001b[0m\u001b[1;33m,\u001b[0m \u001b[1;32mNone\u001b[0m\u001b[1;33m)\u001b[0m\u001b[1;33m\u001b[0m\u001b[1;33m\u001b[0m\u001b[0m\n\u001b[0m\u001b[0;32m    446\u001b[0m         \u001b[1;32mexcept\u001b[0m \u001b[1;33m(\u001b[0m\u001b[0mSocketTimeout\u001b[0m\u001b[1;33m,\u001b[0m \u001b[0mBaseSSLError\u001b[0m\u001b[1;33m,\u001b[0m \u001b[0mSocketError\u001b[0m\u001b[1;33m)\u001b[0m \u001b[1;32mas\u001b[0m \u001b[0me\u001b[0m\u001b[1;33m:\u001b[0m\u001b[1;33m\u001b[0m\u001b[1;33m\u001b[0m\u001b[0m\n",
      "\u001b[1;32m~\\anaconda3\\lib\\site-packages\\urllib3\\packages\\six.py\u001b[0m in \u001b[0;36mraise_from\u001b[1;34m(value, from_value)\u001b[0m\n",
      "\u001b[1;32m~\\anaconda3\\lib\\site-packages\\urllib3\\connectionpool.py\u001b[0m in \u001b[0;36m_make_request\u001b[1;34m(self, conn, method, url, timeout, chunked, **httplib_request_kw)\u001b[0m\n\u001b[0;32m    439\u001b[0m                 \u001b[1;32mtry\u001b[0m\u001b[1;33m:\u001b[0m\u001b[1;33m\u001b[0m\u001b[1;33m\u001b[0m\u001b[0m\n\u001b[1;32m--> 440\u001b[1;33m                     \u001b[0mhttplib_response\u001b[0m \u001b[1;33m=\u001b[0m \u001b[0mconn\u001b[0m\u001b[1;33m.\u001b[0m\u001b[0mgetresponse\u001b[0m\u001b[1;33m(\u001b[0m\u001b[1;33m)\u001b[0m\u001b[1;33m\u001b[0m\u001b[1;33m\u001b[0m\u001b[0m\n\u001b[0m\u001b[0;32m    441\u001b[0m                 \u001b[1;32mexcept\u001b[0m \u001b[0mBaseException\u001b[0m \u001b[1;32mas\u001b[0m \u001b[0me\u001b[0m\u001b[1;33m:\u001b[0m\u001b[1;33m\u001b[0m\u001b[1;33m\u001b[0m\u001b[0m\n",
      "\u001b[1;32m~\\anaconda3\\lib\\http\\client.py\u001b[0m in \u001b[0;36mgetresponse\u001b[1;34m(self)\u001b[0m\n\u001b[0;32m   1370\u001b[0m             \u001b[1;32mtry\u001b[0m\u001b[1;33m:\u001b[0m\u001b[1;33m\u001b[0m\u001b[1;33m\u001b[0m\u001b[0m\n\u001b[1;32m-> 1371\u001b[1;33m                 \u001b[0mresponse\u001b[0m\u001b[1;33m.\u001b[0m\u001b[0mbegin\u001b[0m\u001b[1;33m(\u001b[0m\u001b[1;33m)\u001b[0m\u001b[1;33m\u001b[0m\u001b[1;33m\u001b[0m\u001b[0m\n\u001b[0m\u001b[0;32m   1372\u001b[0m             \u001b[1;32mexcept\u001b[0m \u001b[0mConnectionError\u001b[0m\u001b[1;33m:\u001b[0m\u001b[1;33m\u001b[0m\u001b[1;33m\u001b[0m\u001b[0m\n",
      "\u001b[1;32m~\\anaconda3\\lib\\http\\client.py\u001b[0m in \u001b[0;36mbegin\u001b[1;34m(self)\u001b[0m\n\u001b[0;32m    318\u001b[0m         \u001b[1;32mwhile\u001b[0m \u001b[1;32mTrue\u001b[0m\u001b[1;33m:\u001b[0m\u001b[1;33m\u001b[0m\u001b[1;33m\u001b[0m\u001b[0m\n\u001b[1;32m--> 319\u001b[1;33m             \u001b[0mversion\u001b[0m\u001b[1;33m,\u001b[0m \u001b[0mstatus\u001b[0m\u001b[1;33m,\u001b[0m \u001b[0mreason\u001b[0m \u001b[1;33m=\u001b[0m \u001b[0mself\u001b[0m\u001b[1;33m.\u001b[0m\u001b[0m_read_status\u001b[0m\u001b[1;33m(\u001b[0m\u001b[1;33m)\u001b[0m\u001b[1;33m\u001b[0m\u001b[1;33m\u001b[0m\u001b[0m\n\u001b[0m\u001b[0;32m    320\u001b[0m             \u001b[1;32mif\u001b[0m \u001b[0mstatus\u001b[0m \u001b[1;33m!=\u001b[0m \u001b[0mCONTINUE\u001b[0m\u001b[1;33m:\u001b[0m\u001b[1;33m\u001b[0m\u001b[1;33m\u001b[0m\u001b[0m\n",
      "\u001b[1;32m~\\anaconda3\\lib\\http\\client.py\u001b[0m in \u001b[0;36m_read_status\u001b[1;34m(self)\u001b[0m\n\u001b[0;32m    287\u001b[0m             \u001b[1;31m# sending a valid response.\u001b[0m\u001b[1;33m\u001b[0m\u001b[1;33m\u001b[0m\u001b[0m\n\u001b[1;32m--> 288\u001b[1;33m             raise RemoteDisconnected(\"Remote end closed connection without\"\n\u001b[0m\u001b[0;32m    289\u001b[0m                                      \" response\")\n",
      "\u001b[1;31mRemoteDisconnected\u001b[0m: Remote end closed connection without response",
      "\nDuring handling of the above exception, another exception occurred:\n",
      "\u001b[1;31mProtocolError\u001b[0m                             Traceback (most recent call last)",
      "\u001b[1;32m~\\anaconda3\\lib\\site-packages\\requests\\adapters.py\u001b[0m in \u001b[0;36msend\u001b[1;34m(self, request, stream, timeout, verify, cert, proxies)\u001b[0m\n\u001b[0;32m    438\u001b[0m             \u001b[1;32mif\u001b[0m \u001b[1;32mnot\u001b[0m \u001b[0mchunked\u001b[0m\u001b[1;33m:\u001b[0m\u001b[1;33m\u001b[0m\u001b[1;33m\u001b[0m\u001b[0m\n\u001b[1;32m--> 439\u001b[1;33m                 resp = conn.urlopen(\n\u001b[0m\u001b[0;32m    440\u001b[0m                     \u001b[0mmethod\u001b[0m\u001b[1;33m=\u001b[0m\u001b[0mrequest\u001b[0m\u001b[1;33m.\u001b[0m\u001b[0mmethod\u001b[0m\u001b[1;33m,\u001b[0m\u001b[1;33m\u001b[0m\u001b[1;33m\u001b[0m\u001b[0m\n",
      "\u001b[1;32m~\\anaconda3\\lib\\site-packages\\urllib3\\connectionpool.py\u001b[0m in \u001b[0;36murlopen\u001b[1;34m(self, method, url, body, headers, retries, redirect, assert_same_host, timeout, pool_timeout, release_conn, chunked, body_pos, **response_kw)\u001b[0m\n\u001b[0;32m    754\u001b[0m \u001b[1;33m\u001b[0m\u001b[0m\n\u001b[1;32m--> 755\u001b[1;33m             retries = retries.increment(\n\u001b[0m\u001b[0;32m    756\u001b[0m                 \u001b[0mmethod\u001b[0m\u001b[1;33m,\u001b[0m \u001b[0murl\u001b[0m\u001b[1;33m,\u001b[0m \u001b[0merror\u001b[0m\u001b[1;33m=\u001b[0m\u001b[0me\u001b[0m\u001b[1;33m,\u001b[0m \u001b[0m_pool\u001b[0m\u001b[1;33m=\u001b[0m\u001b[0mself\u001b[0m\u001b[1;33m,\u001b[0m \u001b[0m_stacktrace\u001b[0m\u001b[1;33m=\u001b[0m\u001b[0msys\u001b[0m\u001b[1;33m.\u001b[0m\u001b[0mexc_info\u001b[0m\u001b[1;33m(\u001b[0m\u001b[1;33m)\u001b[0m\u001b[1;33m[\u001b[0m\u001b[1;36m2\u001b[0m\u001b[1;33m]\u001b[0m\u001b[1;33m\u001b[0m\u001b[1;33m\u001b[0m\u001b[0m\n",
      "\u001b[1;32m~\\anaconda3\\lib\\site-packages\\urllib3\\util\\retry.py\u001b[0m in \u001b[0;36mincrement\u001b[1;34m(self, method, url, response, error, _pool, _stacktrace)\u001b[0m\n\u001b[0;32m    531\u001b[0m             \u001b[1;32mif\u001b[0m \u001b[0mread\u001b[0m \u001b[1;32mis\u001b[0m \u001b[1;32mFalse\u001b[0m \u001b[1;32mor\u001b[0m \u001b[1;32mnot\u001b[0m \u001b[0mself\u001b[0m\u001b[1;33m.\u001b[0m\u001b[0m_is_method_retryable\u001b[0m\u001b[1;33m(\u001b[0m\u001b[0mmethod\u001b[0m\u001b[1;33m)\u001b[0m\u001b[1;33m:\u001b[0m\u001b[1;33m\u001b[0m\u001b[1;33m\u001b[0m\u001b[0m\n\u001b[1;32m--> 532\u001b[1;33m                 \u001b[1;32mraise\u001b[0m \u001b[0msix\u001b[0m\u001b[1;33m.\u001b[0m\u001b[0mreraise\u001b[0m\u001b[1;33m(\u001b[0m\u001b[0mtype\u001b[0m\u001b[1;33m(\u001b[0m\u001b[0merror\u001b[0m\u001b[1;33m)\u001b[0m\u001b[1;33m,\u001b[0m \u001b[0merror\u001b[0m\u001b[1;33m,\u001b[0m \u001b[0m_stacktrace\u001b[0m\u001b[1;33m)\u001b[0m\u001b[1;33m\u001b[0m\u001b[1;33m\u001b[0m\u001b[0m\n\u001b[0m\u001b[0;32m    533\u001b[0m             \u001b[1;32melif\u001b[0m \u001b[0mread\u001b[0m \u001b[1;32mis\u001b[0m \u001b[1;32mnot\u001b[0m \u001b[1;32mNone\u001b[0m\u001b[1;33m:\u001b[0m\u001b[1;33m\u001b[0m\u001b[1;33m\u001b[0m\u001b[0m\n",
      "\u001b[1;32m~\\anaconda3\\lib\\site-packages\\urllib3\\packages\\six.py\u001b[0m in \u001b[0;36mreraise\u001b[1;34m(tp, value, tb)\u001b[0m\n\u001b[0;32m    768\u001b[0m             \u001b[1;32mif\u001b[0m \u001b[0mvalue\u001b[0m\u001b[1;33m.\u001b[0m\u001b[0m__traceback__\u001b[0m \u001b[1;32mis\u001b[0m \u001b[1;32mnot\u001b[0m \u001b[0mtb\u001b[0m\u001b[1;33m:\u001b[0m\u001b[1;33m\u001b[0m\u001b[1;33m\u001b[0m\u001b[0m\n\u001b[1;32m--> 769\u001b[1;33m                 \u001b[1;32mraise\u001b[0m \u001b[0mvalue\u001b[0m\u001b[1;33m.\u001b[0m\u001b[0mwith_traceback\u001b[0m\u001b[1;33m(\u001b[0m\u001b[0mtb\u001b[0m\u001b[1;33m)\u001b[0m\u001b[1;33m\u001b[0m\u001b[1;33m\u001b[0m\u001b[0m\n\u001b[0m\u001b[0;32m    770\u001b[0m             \u001b[1;32mraise\u001b[0m \u001b[0mvalue\u001b[0m\u001b[1;33m\u001b[0m\u001b[1;33m\u001b[0m\u001b[0m\n",
      "\u001b[1;32m~\\anaconda3\\lib\\site-packages\\urllib3\\connectionpool.py\u001b[0m in \u001b[0;36murlopen\u001b[1;34m(self, method, url, body, headers, retries, redirect, assert_same_host, timeout, pool_timeout, release_conn, chunked, body_pos, **response_kw)\u001b[0m\n\u001b[0;32m    698\u001b[0m             \u001b[1;31m# Make the request on the httplib connection object.\u001b[0m\u001b[1;33m\u001b[0m\u001b[1;33m\u001b[0m\u001b[0m\n\u001b[1;32m--> 699\u001b[1;33m             httplib_response = self._make_request(\n\u001b[0m\u001b[0;32m    700\u001b[0m                 \u001b[0mconn\u001b[0m\u001b[1;33m,\u001b[0m\u001b[1;33m\u001b[0m\u001b[1;33m\u001b[0m\u001b[0m\n",
      "\u001b[1;32m~\\anaconda3\\lib\\site-packages\\urllib3\\connectionpool.py\u001b[0m in \u001b[0;36m_make_request\u001b[1;34m(self, conn, method, url, timeout, chunked, **httplib_request_kw)\u001b[0m\n\u001b[0;32m    444\u001b[0m                     \u001b[1;31m# Otherwise it looks like a bug in the code.\u001b[0m\u001b[1;33m\u001b[0m\u001b[1;33m\u001b[0m\u001b[0m\n\u001b[1;32m--> 445\u001b[1;33m                     \u001b[0msix\u001b[0m\u001b[1;33m.\u001b[0m\u001b[0mraise_from\u001b[0m\u001b[1;33m(\u001b[0m\u001b[0me\u001b[0m\u001b[1;33m,\u001b[0m \u001b[1;32mNone\u001b[0m\u001b[1;33m)\u001b[0m\u001b[1;33m\u001b[0m\u001b[1;33m\u001b[0m\u001b[0m\n\u001b[0m\u001b[0;32m    446\u001b[0m         \u001b[1;32mexcept\u001b[0m \u001b[1;33m(\u001b[0m\u001b[0mSocketTimeout\u001b[0m\u001b[1;33m,\u001b[0m \u001b[0mBaseSSLError\u001b[0m\u001b[1;33m,\u001b[0m \u001b[0mSocketError\u001b[0m\u001b[1;33m)\u001b[0m \u001b[1;32mas\u001b[0m \u001b[0me\u001b[0m\u001b[1;33m:\u001b[0m\u001b[1;33m\u001b[0m\u001b[1;33m\u001b[0m\u001b[0m\n",
      "\u001b[1;32m~\\anaconda3\\lib\\site-packages\\urllib3\\packages\\six.py\u001b[0m in \u001b[0;36mraise_from\u001b[1;34m(value, from_value)\u001b[0m\n",
      "\u001b[1;32m~\\anaconda3\\lib\\site-packages\\urllib3\\connectionpool.py\u001b[0m in \u001b[0;36m_make_request\u001b[1;34m(self, conn, method, url, timeout, chunked, **httplib_request_kw)\u001b[0m\n\u001b[0;32m    439\u001b[0m                 \u001b[1;32mtry\u001b[0m\u001b[1;33m:\u001b[0m\u001b[1;33m\u001b[0m\u001b[1;33m\u001b[0m\u001b[0m\n\u001b[1;32m--> 440\u001b[1;33m                     \u001b[0mhttplib_response\u001b[0m \u001b[1;33m=\u001b[0m \u001b[0mconn\u001b[0m\u001b[1;33m.\u001b[0m\u001b[0mgetresponse\u001b[0m\u001b[1;33m(\u001b[0m\u001b[1;33m)\u001b[0m\u001b[1;33m\u001b[0m\u001b[1;33m\u001b[0m\u001b[0m\n\u001b[0m\u001b[0;32m    441\u001b[0m                 \u001b[1;32mexcept\u001b[0m \u001b[0mBaseException\u001b[0m \u001b[1;32mas\u001b[0m \u001b[0me\u001b[0m\u001b[1;33m:\u001b[0m\u001b[1;33m\u001b[0m\u001b[1;33m\u001b[0m\u001b[0m\n",
      "\u001b[1;32m~\\anaconda3\\lib\\http\\client.py\u001b[0m in \u001b[0;36mgetresponse\u001b[1;34m(self)\u001b[0m\n\u001b[0;32m   1370\u001b[0m             \u001b[1;32mtry\u001b[0m\u001b[1;33m:\u001b[0m\u001b[1;33m\u001b[0m\u001b[1;33m\u001b[0m\u001b[0m\n\u001b[1;32m-> 1371\u001b[1;33m                 \u001b[0mresponse\u001b[0m\u001b[1;33m.\u001b[0m\u001b[0mbegin\u001b[0m\u001b[1;33m(\u001b[0m\u001b[1;33m)\u001b[0m\u001b[1;33m\u001b[0m\u001b[1;33m\u001b[0m\u001b[0m\n\u001b[0m\u001b[0;32m   1372\u001b[0m             \u001b[1;32mexcept\u001b[0m \u001b[0mConnectionError\u001b[0m\u001b[1;33m:\u001b[0m\u001b[1;33m\u001b[0m\u001b[1;33m\u001b[0m\u001b[0m\n",
      "\u001b[1;32m~\\anaconda3\\lib\\http\\client.py\u001b[0m in \u001b[0;36mbegin\u001b[1;34m(self)\u001b[0m\n\u001b[0;32m    318\u001b[0m         \u001b[1;32mwhile\u001b[0m \u001b[1;32mTrue\u001b[0m\u001b[1;33m:\u001b[0m\u001b[1;33m\u001b[0m\u001b[1;33m\u001b[0m\u001b[0m\n\u001b[1;32m--> 319\u001b[1;33m             \u001b[0mversion\u001b[0m\u001b[1;33m,\u001b[0m \u001b[0mstatus\u001b[0m\u001b[1;33m,\u001b[0m \u001b[0mreason\u001b[0m \u001b[1;33m=\u001b[0m \u001b[0mself\u001b[0m\u001b[1;33m.\u001b[0m\u001b[0m_read_status\u001b[0m\u001b[1;33m(\u001b[0m\u001b[1;33m)\u001b[0m\u001b[1;33m\u001b[0m\u001b[1;33m\u001b[0m\u001b[0m\n\u001b[0m\u001b[0;32m    320\u001b[0m             \u001b[1;32mif\u001b[0m \u001b[0mstatus\u001b[0m \u001b[1;33m!=\u001b[0m \u001b[0mCONTINUE\u001b[0m\u001b[1;33m:\u001b[0m\u001b[1;33m\u001b[0m\u001b[1;33m\u001b[0m\u001b[0m\n",
      "\u001b[1;32m~\\anaconda3\\lib\\http\\client.py\u001b[0m in \u001b[0;36m_read_status\u001b[1;34m(self)\u001b[0m\n\u001b[0;32m    287\u001b[0m             \u001b[1;31m# sending a valid response.\u001b[0m\u001b[1;33m\u001b[0m\u001b[1;33m\u001b[0m\u001b[0m\n\u001b[1;32m--> 288\u001b[1;33m             raise RemoteDisconnected(\"Remote end closed connection without\"\n\u001b[0m\u001b[0;32m    289\u001b[0m                                      \" response\")\n",
      "\u001b[1;31mProtocolError\u001b[0m: ('Connection aborted.', RemoteDisconnected('Remote end closed connection without response'))",
      "\nDuring handling of the above exception, another exception occurred:\n",
      "\u001b[1;31mConnectionError\u001b[0m                           Traceback (most recent call last)",
      "\u001b[1;32m~\\AppData\\Local\\Temp/ipykernel_14528/604209104.py\u001b[0m in \u001b[0;36m<module>\u001b[1;34m\u001b[0m\n\u001b[0;32m      1\u001b[0m \u001b[1;31m# 정부 \"확진자 일평균 7천명땐 오미크론 대응단계... 별도 발표예정\"\u001b[0m\u001b[1;33m\u001b[0m\u001b[1;33m\u001b[0m\u001b[0m\n\u001b[0;32m      2\u001b[0m \u001b[0murl\u001b[0m \u001b[1;33m=\u001b[0m \u001b[1;34m\"https://news.naver.com/main/read.naver?mode=LPOD&mid=sec&oid=001&aid=0012930410&isYeonhapFlash=Y&rc=N\"\u001b[0m\u001b[1;33m\u001b[0m\u001b[1;33m\u001b[0m\u001b[0m\n\u001b[1;32m----> 3\u001b[1;33m \u001b[0mres\u001b[0m \u001b[1;33m=\u001b[0m \u001b[0mrequests\u001b[0m\u001b[1;33m.\u001b[0m\u001b[0mget\u001b[0m\u001b[1;33m(\u001b[0m\u001b[0murl\u001b[0m\u001b[1;33m)\u001b[0m\u001b[1;33m\u001b[0m\u001b[1;33m\u001b[0m\u001b[0m\n\u001b[0m\u001b[0;32m      4\u001b[0m \u001b[0mprint\u001b[0m\u001b[1;33m(\u001b[0m\u001b[0mres\u001b[0m\u001b[1;33m)\u001b[0m\u001b[1;33m\u001b[0m\u001b[1;33m\u001b[0m\u001b[0m\n",
      "\u001b[1;32m~\\anaconda3\\lib\\site-packages\\requests\\api.py\u001b[0m in \u001b[0;36mget\u001b[1;34m(url, params, **kwargs)\u001b[0m\n\u001b[0;32m     73\u001b[0m     \"\"\"\n\u001b[0;32m     74\u001b[0m \u001b[1;33m\u001b[0m\u001b[0m\n\u001b[1;32m---> 75\u001b[1;33m     \u001b[1;32mreturn\u001b[0m \u001b[0mrequest\u001b[0m\u001b[1;33m(\u001b[0m\u001b[1;34m'get'\u001b[0m\u001b[1;33m,\u001b[0m \u001b[0murl\u001b[0m\u001b[1;33m,\u001b[0m \u001b[0mparams\u001b[0m\u001b[1;33m=\u001b[0m\u001b[0mparams\u001b[0m\u001b[1;33m,\u001b[0m \u001b[1;33m**\u001b[0m\u001b[0mkwargs\u001b[0m\u001b[1;33m)\u001b[0m\u001b[1;33m\u001b[0m\u001b[1;33m\u001b[0m\u001b[0m\n\u001b[0m\u001b[0;32m     76\u001b[0m \u001b[1;33m\u001b[0m\u001b[0m\n\u001b[0;32m     77\u001b[0m \u001b[1;33m\u001b[0m\u001b[0m\n",
      "\u001b[1;32m~\\anaconda3\\lib\\site-packages\\requests\\api.py\u001b[0m in \u001b[0;36mrequest\u001b[1;34m(method, url, **kwargs)\u001b[0m\n\u001b[0;32m     59\u001b[0m     \u001b[1;31m# cases, and look like a memory leak in others.\u001b[0m\u001b[1;33m\u001b[0m\u001b[1;33m\u001b[0m\u001b[0m\n\u001b[0;32m     60\u001b[0m     \u001b[1;32mwith\u001b[0m \u001b[0msessions\u001b[0m\u001b[1;33m.\u001b[0m\u001b[0mSession\u001b[0m\u001b[1;33m(\u001b[0m\u001b[1;33m)\u001b[0m \u001b[1;32mas\u001b[0m \u001b[0msession\u001b[0m\u001b[1;33m:\u001b[0m\u001b[1;33m\u001b[0m\u001b[1;33m\u001b[0m\u001b[0m\n\u001b[1;32m---> 61\u001b[1;33m         \u001b[1;32mreturn\u001b[0m \u001b[0msession\u001b[0m\u001b[1;33m.\u001b[0m\u001b[0mrequest\u001b[0m\u001b[1;33m(\u001b[0m\u001b[0mmethod\u001b[0m\u001b[1;33m=\u001b[0m\u001b[0mmethod\u001b[0m\u001b[1;33m,\u001b[0m \u001b[0murl\u001b[0m\u001b[1;33m=\u001b[0m\u001b[0murl\u001b[0m\u001b[1;33m,\u001b[0m \u001b[1;33m**\u001b[0m\u001b[0mkwargs\u001b[0m\u001b[1;33m)\u001b[0m\u001b[1;33m\u001b[0m\u001b[1;33m\u001b[0m\u001b[0m\n\u001b[0m\u001b[0;32m     62\u001b[0m \u001b[1;33m\u001b[0m\u001b[0m\n\u001b[0;32m     63\u001b[0m \u001b[1;33m\u001b[0m\u001b[0m\n",
      "\u001b[1;32m~\\anaconda3\\lib\\site-packages\\requests\\sessions.py\u001b[0m in \u001b[0;36mrequest\u001b[1;34m(self, method, url, params, data, headers, cookies, files, auth, timeout, allow_redirects, proxies, hooks, stream, verify, cert, json)\u001b[0m\n\u001b[0;32m    540\u001b[0m         }\n\u001b[0;32m    541\u001b[0m         \u001b[0msend_kwargs\u001b[0m\u001b[1;33m.\u001b[0m\u001b[0mupdate\u001b[0m\u001b[1;33m(\u001b[0m\u001b[0msettings\u001b[0m\u001b[1;33m)\u001b[0m\u001b[1;33m\u001b[0m\u001b[1;33m\u001b[0m\u001b[0m\n\u001b[1;32m--> 542\u001b[1;33m         \u001b[0mresp\u001b[0m \u001b[1;33m=\u001b[0m \u001b[0mself\u001b[0m\u001b[1;33m.\u001b[0m\u001b[0msend\u001b[0m\u001b[1;33m(\u001b[0m\u001b[0mprep\u001b[0m\u001b[1;33m,\u001b[0m \u001b[1;33m**\u001b[0m\u001b[0msend_kwargs\u001b[0m\u001b[1;33m)\u001b[0m\u001b[1;33m\u001b[0m\u001b[1;33m\u001b[0m\u001b[0m\n\u001b[0m\u001b[0;32m    543\u001b[0m \u001b[1;33m\u001b[0m\u001b[0m\n\u001b[0;32m    544\u001b[0m         \u001b[1;32mreturn\u001b[0m \u001b[0mresp\u001b[0m\u001b[1;33m\u001b[0m\u001b[1;33m\u001b[0m\u001b[0m\n",
      "\u001b[1;32m~\\anaconda3\\lib\\site-packages\\requests\\sessions.py\u001b[0m in \u001b[0;36msend\u001b[1;34m(self, request, **kwargs)\u001b[0m\n\u001b[0;32m    653\u001b[0m \u001b[1;33m\u001b[0m\u001b[0m\n\u001b[0;32m    654\u001b[0m         \u001b[1;31m# Send the request\u001b[0m\u001b[1;33m\u001b[0m\u001b[1;33m\u001b[0m\u001b[0m\n\u001b[1;32m--> 655\u001b[1;33m         \u001b[0mr\u001b[0m \u001b[1;33m=\u001b[0m \u001b[0madapter\u001b[0m\u001b[1;33m.\u001b[0m\u001b[0msend\u001b[0m\u001b[1;33m(\u001b[0m\u001b[0mrequest\u001b[0m\u001b[1;33m,\u001b[0m \u001b[1;33m**\u001b[0m\u001b[0mkwargs\u001b[0m\u001b[1;33m)\u001b[0m\u001b[1;33m\u001b[0m\u001b[1;33m\u001b[0m\u001b[0m\n\u001b[0m\u001b[0;32m    656\u001b[0m \u001b[1;33m\u001b[0m\u001b[0m\n\u001b[0;32m    657\u001b[0m         \u001b[1;31m# Total elapsed time of the request (approximately)\u001b[0m\u001b[1;33m\u001b[0m\u001b[1;33m\u001b[0m\u001b[0m\n",
      "\u001b[1;32m~\\anaconda3\\lib\\site-packages\\requests\\adapters.py\u001b[0m in \u001b[0;36msend\u001b[1;34m(self, request, stream, timeout, verify, cert, proxies)\u001b[0m\n\u001b[0;32m    496\u001b[0m \u001b[1;33m\u001b[0m\u001b[0m\n\u001b[0;32m    497\u001b[0m         \u001b[1;32mexcept\u001b[0m \u001b[1;33m(\u001b[0m\u001b[0mProtocolError\u001b[0m\u001b[1;33m,\u001b[0m \u001b[0msocket\u001b[0m\u001b[1;33m.\u001b[0m\u001b[0merror\u001b[0m\u001b[1;33m)\u001b[0m \u001b[1;32mas\u001b[0m \u001b[0merr\u001b[0m\u001b[1;33m:\u001b[0m\u001b[1;33m\u001b[0m\u001b[1;33m\u001b[0m\u001b[0m\n\u001b[1;32m--> 498\u001b[1;33m             \u001b[1;32mraise\u001b[0m \u001b[0mConnectionError\u001b[0m\u001b[1;33m(\u001b[0m\u001b[0merr\u001b[0m\u001b[1;33m,\u001b[0m \u001b[0mrequest\u001b[0m\u001b[1;33m=\u001b[0m\u001b[0mrequest\u001b[0m\u001b[1;33m)\u001b[0m\u001b[1;33m\u001b[0m\u001b[1;33m\u001b[0m\u001b[0m\n\u001b[0m\u001b[0;32m    499\u001b[0m \u001b[1;33m\u001b[0m\u001b[0m\n\u001b[0;32m    500\u001b[0m         \u001b[1;32mexcept\u001b[0m \u001b[0mMaxRetryError\u001b[0m \u001b[1;32mas\u001b[0m \u001b[0me\u001b[0m\u001b[1;33m:\u001b[0m\u001b[1;33m\u001b[0m\u001b[1;33m\u001b[0m\u001b[0m\n",
      "\u001b[1;31mConnectionError\u001b[0m: ('Connection aborted.', RemoteDisconnected('Remote end closed connection without response'))"
     ]
    }
   ],
   "source": [
    "# 정부 \"확진자 일평균 7천명땐 오미크론 대응단계... 별도 발표예정\"\n",
    "url = \"https://news.naver.com/main/read.naver?mode=LPOD&mid=sec&oid=001&aid=0012930410&isYeonhapFlash=Y&rc=N\"\n",
    "res = requests.get(url)\n",
    "print(res)"
   ]
  },
  {
   "cell_type": "code",
   "execution_count": null,
   "id": "a6f029c7",
   "metadata": {},
   "outputs": [],
   "source": []
  },
  {
   "cell_type": "code",
   "execution_count": 317,
   "id": "23a70e8b",
   "metadata": {},
   "outputs": [],
   "source": [
    "# selenium"
   ]
  },
  {
   "cell_type": "code",
   "execution_count": 318,
   "id": "ec8f24cb",
   "metadata": {
    "collapsed": true
   },
   "outputs": [
    {
     "name": "stdout",
     "output_type": "stream",
     "text": [
      "Collecting selenium\n",
      "  Downloading selenium-4.1.0-py3-none-any.whl (958 kB)\n",
      "Collecting trio-websocket~=0.9\n",
      "  Downloading trio_websocket-0.9.2-py3-none-any.whl (16 kB)\n",
      "Collecting trio~=0.17\n",
      "  Downloading trio-0.19.0-py3-none-any.whl (356 kB)\n",
      "Requirement already satisfied: urllib3[secure]~=1.26 in c:\\users\\bitcamp\\anaconda3\\lib\\site-packages (from selenium) (1.26.7)\n",
      "Requirement already satisfied: sortedcontainers in c:\\users\\bitcamp\\anaconda3\\lib\\site-packages (from trio~=0.17->selenium) (2.4.0)\n",
      "Requirement already satisfied: cffi>=1.14 in c:\\users\\bitcamp\\anaconda3\\lib\\site-packages (from trio~=0.17->selenium) (1.14.6)\n",
      "Requirement already satisfied: attrs>=19.2.0 in c:\\users\\bitcamp\\anaconda3\\lib\\site-packages (from trio~=0.17->selenium) (21.2.0)\n",
      "Collecting outcome\n",
      "  Downloading outcome-1.1.0-py2.py3-none-any.whl (9.7 kB)\n",
      "Requirement already satisfied: sniffio in c:\\users\\bitcamp\\anaconda3\\lib\\site-packages (from trio~=0.17->selenium) (1.2.0)\n",
      "Requirement already satisfied: async-generator>=1.9 in c:\\users\\bitcamp\\anaconda3\\lib\\site-packages (from trio~=0.17->selenium) (1.10)\n",
      "Requirement already satisfied: idna in c:\\users\\bitcamp\\anaconda3\\lib\\site-packages (from trio~=0.17->selenium) (3.2)\n",
      "Requirement already satisfied: pycparser in c:\\users\\bitcamp\\anaconda3\\lib\\site-packages (from cffi>=1.14->trio~=0.17->selenium) (2.20)\n",
      "Collecting wsproto>=0.14\n",
      "  Downloading wsproto-1.0.0-py3-none-any.whl (24 kB)\n",
      "Requirement already satisfied: pyOpenSSL>=0.14 in c:\\users\\bitcamp\\anaconda3\\lib\\site-packages (from urllib3[secure]~=1.26->selenium) (21.0.0)\n",
      "Requirement already satisfied: cryptography>=1.3.4 in c:\\users\\bitcamp\\anaconda3\\lib\\site-packages (from urllib3[secure]~=1.26->selenium) (3.4.8)\n",
      "Requirement already satisfied: certifi in c:\\users\\bitcamp\\anaconda3\\lib\\site-packages (from urllib3[secure]~=1.26->selenium) (2021.10.8)\n",
      "Requirement already satisfied: six>=1.5.2 in c:\\users\\bitcamp\\anaconda3\\lib\\site-packages (from pyOpenSSL>=0.14->urllib3[secure]~=1.26->selenium) (1.16.0)\n",
      "Collecting h11<1,>=0.9.0\n",
      "  Downloading h11-0.13.0-py3-none-any.whl (58 kB)\n",
      "Installing collected packages: outcome, h11, wsproto, trio, trio-websocket, selenium\n",
      "Successfully installed h11-0.13.0 outcome-1.1.0 selenium-4.1.0 trio-0.19.0 trio-websocket-0.9.2 wsproto-1.0.0\n"
     ]
    }
   ],
   "source": [
    "!pip install selenium"
   ]
  },
  {
   "cell_type": "code",
   "execution_count": 321,
   "id": "2bde5ecb",
   "metadata": {},
   "outputs": [],
   "source": [
    "from selenium import webdriver"
   ]
  },
  {
   "cell_type": "code",
   "execution_count": 322,
   "id": "22127668",
   "metadata": {},
   "outputs": [],
   "source": [
    "driver = webdriver.Chrome()"
   ]
  },
  {
   "cell_type": "code",
   "execution_count": 336,
   "id": "0428fd99",
   "metadata": {},
   "outputs": [],
   "source": [
    "driver.get(url)"
   ]
  },
  {
   "cell_type": "code",
   "execution_count": 348,
   "id": "d5ba22ff",
   "metadata": {},
   "outputs": [
    {
     "name": "stdout",
     "output_type": "stream",
     "text": [
      "제발 부탁이다, 코로나를 정치적으로 이용해 먹으려고 하지 마라, 또 부탁한다, 제발 정부와 질병청 특유의 똥고집 부리지 말고 진짜 전문가들에게 상의하고 자문의 구해라,마지막으로 다시 부탁한다, 제발 국민들을 위하는 방역을 해라 ㅉㅉ\n",
      "2022.01.20. 12:46:35\n",
      "♡ 333\n",
      "법원에서 방역패스 확대금지 판결 나오고 나서 귀신같이 확진자수 급증이라고 뉴스 나오네 지난번 확진자수 줄어 들고 있다고 방송 내보내다가 보수단체에서 집회예정을 발표하니 귀신같이 확진자수 폭증이라고 바로 발표하더니 정치방역이 이제는 확실히 감이 오네 평상시는 지들이 방역 잘하고 있다는 느낌주기 위해 확진자수 점진적 감소 뉴스내보내고 지들에 거슬리는 뭔가가 생기면 확진자 폭증 발표하고, 이번 정부는 방역도 지들 유리한대로 조작질하고 통계도 지들 유리한대로 조작질하네  살다살다 이런 정부는 정말 처음이다 정말 한번도 겪어보지 못한 나라\n",
      "2022.01.20. 13:11:27\n",
      "♡ 264\n",
      "상식적으로 생각을 해봐라. 식당,카페,버스,지하철,마트,백화점,학교,직장 다 다니면서 코로나와 함께 지내온 세월이 벌써 2년이다. 이쯤되면 코로나는 이미 퍼질대로 다 퍼진거다. 지금와서 무슨 백신패스니 방역강화니 이딴 소릴 하냐. PCR 선제검사니 QR코드,안심콜 동선추적도 이제 아무 의미없다. 그냥 다 없애라. 무증상 확진자도 더 이상 찾지말고 증상있는 사람들만 동네 병의원에서 진료하고 치료하는걸로 가는게 맞다.\n",
      "2022.01.20. 13:14:33\n",
      "♡ 182\n",
      "감기보다도 약한 감기를 백신으로 막겠다는 발상 자체가 정신이상\n",
      "2022.01.20. 12:51:03\n",
      "♡ 119\n",
      "문재인 구속이 최고의 방역!!\n",
      "2022.01.20. 12:51:36\n",
      "♡ 95\n",
      "의사로서의 양심조차 다 팔여 먹은건가요? 오미크론은 코로나 변이종긴 해도, 이미 약화될대로 약화된, 거의 감기 수준 아닌가요? 매일 발표 하는 위중증 환자조차도 , 예~~전 코로나 감염자들 이잖아요? 오미크론 진단 되서 위중증 환자는 도대체 몇 명이란 말인거죠??? 왜~??? 국민을 똥개만도 못한 취급을 하려 하는 것인가요?\n",
      "2022.01.20. 13:14:57\n",
      "♡ 39\n",
      "불리하면확진자늘리는군요\n",
      "2022.01.20. 12:59:56\n",
      "♡ 23\n",
      "아 검토중이군요 그럼 다시최대 모임인원 4명 영업제한 9시 백화점 마트 백신패스 적용하겠네요 아 나도 아제는 방역 전문가 다 된 듯\n",
      "2022.01.20. 12:55:33\n",
      "♡ 19\n",
      "이제 검사받으러 가지 않는게 낫겠어요.\n",
      "2022.01.20. 12:54:52\n",
      "♡ 16\n",
      "이모든 확신세가 단순 오미크론때문인지 85%이상 접종완료한 접종자들간의 부주의로인한 돌파감염 때문인지 그도아니면 10%남짓 미접종자들때문인지도 확실하게 전달하라 백신패스만큼 지나친 접종프리미엄도 이확산세 주역이라면 당연히 방역도 그에 대응해야하지 않는가?\n",
      "2022.01.20. 12:44:50\n",
      "♡ 12\n"
     ]
    }
   ],
   "source": [
    "html = driver.page_source\n",
    "soup = BeautifulSoup(html, \"html.parser\")\n",
    "lis = soup.select(\"li.u_cbox_comment\")\n",
    "for li in lis:\n",
    "    print(li.select(\"span.u_cbox_contents\")[0].text)\n",
    "    print(li.select(\"div.u_cbox_info_base\")[0].text)\n",
    "    print(\"♡\", li.select(\"em.u_cbox_cnt_recomm\")[0].text)"
   ]
  },
  {
   "cell_type": "code",
   "execution_count": null,
   "id": "7b4fa00b",
   "metadata": {},
   "outputs": [],
   "source": []
  },
  {
   "cell_type": "code",
   "execution_count": null,
   "id": "b6df6288",
   "metadata": {},
   "outputs": [],
   "source": []
  },
  {
   "cell_type": "code",
   "execution_count": null,
   "id": "74152a7a",
   "metadata": {},
   "outputs": [],
   "source": []
  }
 ],
 "metadata": {
  "kernelspec": {
   "display_name": "Python 3 (ipykernel)",
   "language": "python",
   "name": "python3"
  },
  "language_info": {
   "codemirror_mode": {
    "name": "ipython",
    "version": 3
   },
   "file_extension": ".py",
   "mimetype": "text/x-python",
   "name": "python",
   "nbconvert_exporter": "python",
   "pygments_lexer": "ipython3",
   "version": "3.9.7"
  }
 },
 "nbformat": 4,
 "nbformat_minor": 5
}
