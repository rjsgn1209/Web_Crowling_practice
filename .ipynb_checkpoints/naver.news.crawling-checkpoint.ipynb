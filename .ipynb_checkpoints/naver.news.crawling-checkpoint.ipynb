{
 "cells": [
  {
   "cell_type": "markdown",
   "id": "c1430612",
   "metadata": {},
   "source": [
    "# Selenium을 이용한 크롤링"
   ]
  },
  {
   "cell_type": "code",
   "execution_count": 3,
   "id": "a3abb4eb",
   "metadata": {},
   "outputs": [],
   "source": [
    "import requests\n",
    "from bs4 import BeautifulSoup\n",
    "from selenium import webdriver\n",
    "from selenium.webdriver.common.keys import Keys "
   ]
  },
  {
   "cell_type": "code",
   "execution_count": 4,
   "id": "3f88f08b",
   "metadata": {},
   "outputs": [],
   "source": [
    "driver = webdriver.Chrome()"
   ]
  },
  {
   "cell_type": "code",
   "execution_count": 5,
   "id": "35689e8a",
   "metadata": {},
   "outputs": [],
   "source": [
    "driver.get(\"https://naver.com\")"
   ]
  },
  {
   "cell_type": "code",
   "execution_count": 6,
   "id": "0230e40d",
   "metadata": {},
   "outputs": [
    {
     "name": "stderr",
     "output_type": "stream",
     "text": [
      "C:\\Users\\bitcamp\\AppData\\Local\\Temp/ipykernel_6300/3659185284.py:1: DeprecationWarning: find_element_by_* commands are deprecated. Please use find_element() instead\n",
      "  elem = driver.find_element_by_id(\"query\")\n"
     ]
    }
   ],
   "source": [
    "elem = driver.find_element_by_id(\"query\")"
   ]
  },
  {
   "cell_type": "code",
   "execution_count": 7,
   "id": "36eb4d2d",
   "metadata": {},
   "outputs": [],
   "source": [
    "elem.send_keys('빅데이터')"
   ]
  },
  {
   "cell_type": "code",
   "execution_count": 8,
   "id": "95c33e2d",
   "metadata": {},
   "outputs": [],
   "source": [
    "elem.send_keys(Keys.RETURN)"
   ]
  },
  {
   "cell_type": "code",
   "execution_count": 9,
   "id": "5106a1b7",
   "metadata": {},
   "outputs": [
    {
     "name": "stderr",
     "output_type": "stream",
     "text": [
      "C:\\Users\\bitcamp\\AppData\\Local\\Temp/ipykernel_6300/800661838.py:2: DeprecationWarning: find_element_by_* commands are deprecated. Please use find_element() instead\n",
      "  driver.find_element_by_css_selector(path).click()\n"
     ]
    }
   ],
   "source": [
    "path = \"#lnb > div.lnb_group > div > ul > li:nth-child(4) > a\"\n",
    "driver.find_element_by_css_selector(path).click()"
   ]
  },
  {
   "cell_type": "code",
   "execution_count": 10,
   "id": "bfad3d11",
   "metadata": {},
   "outputs": [],
   "source": [
    "html = driver.page_source"
   ]
  },
  {
   "cell_type": "code",
   "execution_count": 11,
   "id": "9e1eafd3",
   "metadata": {},
   "outputs": [],
   "source": [
    "soup = BeautifulSoup(html, \"html.parser\")"
   ]
  },
  {
   "cell_type": "code",
   "execution_count": 12,
   "id": "7db17d31",
   "metadata": {},
   "outputs": [],
   "source": [
    "# 검색어를 입력한 후 게시물의 제목, 지역, 헤시태그를 출력.."
   ]
  },
  {
   "cell_type": "code",
   "execution_count": 28,
   "id": "555af9d9",
   "metadata": {},
   "outputs": [
    {
     "name": "stderr",
     "output_type": "stream",
     "text": [
      "C:\\Users\\bitcamp\\AppData\\Local\\Temp/ipykernel_6300/295607112.py:5: DeprecationWarning: use options instead of chrome_options\n",
      "  driver = webdriver.Chrome(chrome_options=chrome_options)\n"
     ]
    }
   ],
   "source": [
    "\n",
    "\n",
    "from selenium.webdriver.chrome.options import Options\n",
    "\n",
    "chrome_options = Options()\n",
    "chrome_options.add_argument(\"--window-size=1920,1080\")\n",
    "driver = webdriver.Chrome(chrome_options=chrome_options)\n",
    "# driver = webdriver.Chrome()"
   ]
  },
  {
   "cell_type": "code",
   "execution_count": 29,
   "id": "b58debf6",
   "metadata": {},
   "outputs": [],
   "source": [
    "driver.get(\"https://korean.visitkorea.or.kr/main/main.do#home\")"
   ]
  },
  {
   "cell_type": "code",
   "execution_count": 32,
   "id": "680a7bf6",
   "metadata": {},
   "outputs": [
    {
     "name": "stderr",
     "output_type": "stream",
     "text": [
      "C:\\Users\\bitcamp\\AppData\\Local\\Temp/ipykernel_6300/4210030756.py:1: DeprecationWarning: find_element_by_* commands are deprecated. Please use find_element() instead\n",
      "  elem = driver.find_element_by_id(\"inp_search\")\n"
     ]
    }
   ],
   "source": [
    "elem = driver.find_element_by_id(\"inp_search\")"
   ]
  },
  {
   "cell_type": "code",
   "execution_count": 33,
   "id": "aa5e4798",
   "metadata": {},
   "outputs": [],
   "source": [
    "elem.send_keys(\"제주도\")"
   ]
  },
  {
   "cell_type": "code",
   "execution_count": 34,
   "id": "f2d57c4b",
   "metadata": {},
   "outputs": [],
   "source": [
    "elem.send_keys(Keys.RETURN)"
   ]
  },
  {
   "cell_type": "code",
   "execution_count": 35,
   "id": "cacaa2cf",
   "metadata": {},
   "outputs": [],
   "source": [
    "html = driver.page_source"
   ]
  },
  {
   "cell_type": "code",
   "execution_count": 36,
   "id": "50e91ce6",
   "metadata": {},
   "outputs": [
    {
     "name": "stdout",
     "output_type": "stream",
     "text": [
      " 탄소 없는 섬, 제주의 미래를 만나다_제주CFI에너지미래관 \n",
      " 제주도 제주시   \n",
      "#2021_산업관광12선#제주CFI에너지미래관#제주가볼만한곳#산업관광지#신재생에너지 \n",
      "\n",
      "\n",
      "\n",
      " 제주도 조천읍 버킷리스트 여행지 작성하기 \n",
      " 제주도 제주시   \n",
      "#제주여행#제주가볼만한곳#스위스마을#제주스위스마을#교래자연휴양림#자연휴양림#산굼부리#제주산굼부리#해안누리길#닭머르해안길 \n",
      "\n",
      "\n",
      "\n",
      " [국내 트레킹 추천] 제주 올레길 걷기 여행, 준비부터 코스 선택까지 꿀팁 총정리! \n",
      " 제주도   \n",
      "#제주올레길#트레킹코스#트레킹#제주가볼만한곳#제주여행#걷기여행 \n",
      "\n",
      "\n",
      "\n",
      " 보석 같은 섬에 예술을 덧입히다, 제주 추자도 \n",
      " 제주도 제주시   \n",
      "#2020년11월추천가볼만한곳#11월추천가볼만한곳#추천가볼만한곳#11월가볼만한곳#문화예술#섬#제주여행#제주가볼만한곳#공공누리#추자도 \n",
      "\n",
      "\n",
      "\n",
      "\n",
      " 김창열의 회귀 철학을 건축으로 표현한 미술관, 제주도립김창열미술관 \n",
      " 제주도 제주시   \n",
      "#2021년4월추천가볼만한곳#4월추천가볼만한곳#추천가볼만한곳#4월가볼만한곳#제주여행#제주가볼만한곳#미술관#제주도립김창열미술관#김창열미술관#제주현대미술관#성이시돌목장#왕이메오름#숲길#공공누리#봄에아름다운건축물 \n",
      "\n",
      "\n",
      "\n",
      " 나만 알고 싶은 제주 액티비티 ① 원시 숲과 벵뒤못과 밀리터리 카, 어디에도 없던 리얼 오프로드의 세계 \n",
      " 제주도 제주시   \n",
      "#제주여행#제주가볼만한곳#액티비티#액티비티여행#체험여행#오프로드체험#제라진캠프#숲#웃밤오름#방송촬영지#촬영지#CF촬영지#공공누리 \n",
      "\n",
      "\n",
      "\n",
      " 해녀가 되어 바닷속을 누벼볼까!제주 하도어촌체험마을 \n",
      " 제주도 제주시   \n",
      "#2020년9월추천가볼만한곳#9월추천가볼만한곳#추천가볼만한곳#9월가볼만한곳#수상레포츠#제주여행#제주가볼만한곳#공공누리#어촌체험#체험여행 \n",
      "\n",
      "\n",
      "\n",
      " 멋진 풍경을 품고 있는 겨울 제주 여행지 추천 \n",
      " 제주도    \n",
      "#제주여행#제주가볼만한곳#서귀포가볼만한곳#풍경여행#겨울여행#1100고지#1100고지습지#동백마을#제주동백마을#사려니숲길#비자림&사려니숲길#화순곶자왈#곶자왈 \n",
      "\n",
      "\n",
      "\n",
      " 알록달록 가을빛 제주 \n",
      " 제주도    \n",
      "#장애인추천코스#장애인추천여행지#공공누리#무장애여행지#열린관광_모두의여행#제주도 \n",
      "\n",
      "\n",
      "\n",
      " 2021 생활관광 공모전 포토에세이 장려상 - 조아현(제주도) \n",
      " 제주도    \n",
      "#생활관광#생활관광공모전#생활관광공모전포토에세이#제주도#제주도여행#제주도가볼만한곳 \n",
      "\n",
      "\n",
      "\n"
     ]
    }
   ],
   "source": [
    "soup = BeautifulSoup(html, \"html.parser\")\n",
    "\n",
    "ul = soup.select(\"ul.list_thumType\")[0]\n",
    "li = ul.select(\"li\")\n",
    "for i in li:\n",
    "    title = \"\"\n",
    "    location = \"\"\n",
    "    tags = \"\"\n",
    "    if i.select(\"div.tit\"):\n",
    "        title = i.select(\"div.tit\")[0].text\n",
    "        print(title)\n",
    "    if i.select(\"div.service\"):\n",
    "        location = i.select(\"div.service\")[0].text\n",
    "        print(location)\n",
    "    if i.select(\"p.tag_type\"):\n",
    "        tags = i.select(\"p.tag_type\")[0].text\n",
    "        print(tags)\n",
    "        \n",
    "    print()\n",
    "        "
   ]
  },
  {
   "cell_type": "code",
   "execution_count": null,
   "id": "e6a05c53",
   "metadata": {},
   "outputs": [],
   "source": [
    "# title, location, tags 본문..."
   ]
  },
  {
   "cell_type": "code",
   "execution_count": null,
   "id": "127b67f5",
   "metadata": {},
   "outputs": [],
   "source": []
  },
  {
   "cell_type": "code",
   "execution_count": null,
   "id": "bfc0a3e5",
   "metadata": {},
   "outputs": [],
   "source": [
    "# selenium 정리.. 태그 => element\n",
    "\n",
    "# elem = find_element_by_class_name()\n",
    "# elem = find_element_by_id()\n",
    "# elem = find_element_by_xpath()\n",
    "# elem = find_element_by_link_text()\n",
    "# elem = find_element_by_partial_link_text()\n",
    "# elem = find_element_by_name()\n",
    "# elem = find_element_by_tag_name()\n",
    "\n",
    "# elem = find_elements_by_class_name()\n",
    "# elem = find_elements_by_id()\n",
    "# elem = find_elements_by_xpath()\n",
    "# elem = find_elements_by_link_text()\n",
    "# elem = find_elements_by_partial_link_text()\n",
    "# elem = find_elements_by_name()\n",
    "# elem = find_elements_by_tag_name()\n"
   ]
  },
  {
   "cell_type": "code",
   "execution_count": null,
   "id": "c56f099c",
   "metadata": {},
   "outputs": [],
   "source": []
  },
  {
   "cell_type": "code",
   "execution_count": 37,
   "id": "81eca125",
   "metadata": {},
   "outputs": [],
   "source": [
    "# 다나와 사이트에 로그인 한 후 관심상품 목록 출력"
   ]
  },
  {
   "cell_type": "code",
   "execution_count": null,
   "id": "2fda4ea9",
   "metadata": {},
   "outputs": [],
   "source": [
    "from selenium import webdriver\n",
    "from selenium.webdriver.common.keys import Keys\n",
    "\n",
    "driver = webdriver.Chrome()\n",
    "driver.get(\"http://www.danawa.com/?src=adwords&kw=GA0000020&gclid=Cj0KCQiAraSPBhDuARIsAM3Js4oT-GGWDlYgCtWpTAocFxe13l5F48tKrokpjI3Em0r5S-YHmk0ENGYaAgdPEALw_wcB\"\n",
    "          )\n",
    "\n",
    "\n",
    "elem = driver.find_element_by_class_name(\"btn_user--login\")\n",
    "elem.click()\n",
    "\n",
    "id_input = driver.find_element_by_id(\"danawa-member-login-input-id\")\n",
    "pwd_input = driver.find_element_by_id(\"danawa-member-login-input-pwd\")\n",
    "login_btn = driver.find_element_by_id(\"danawa-member-login-loginButton\")\n",
    "id_input.send_keys(\"rjsgn1209\")\n",
    "pwd_input.send_keys(\"bghbgh1021@\")\n",
    "login_btn.send_keys(Keys.RETURN)\n",
    "\n",
    "elem = driver.find_element_by_class_name(\"btn_user--wish\")\n",
    "elem.click()"
   ]
  },
  {
   "cell_type": "code",
   "execution_count": 122,
   "id": "e59d38d0",
   "metadata": {},
   "outputs": [
    {
     "name": "stdout",
     "output_type": "stream",
     "text": [
      "SONY WH-1000XM4 (정품)\n",
      "\n",
      "헤드폰 / 유무선겸용 / 밀폐형 / 오버이어 / 105dB / 4Hz~40kHz / 블루투스 v5.0 / SBC / AAC / LDAC / HFP / HSP / AVRCP / A2DP / 멀티포인트 / 액티브노이즈캔슬링 / 주변소리듣기 / 연결방식: 3.5mm, NFC, 무선2.4GHz / QN1 / 센스엔진 / 재생시간: 30시간(NC ON), 38시간(NC OFF) / 대기시간: 30시간(NC ON), 200시간(NC OFF) / 충전시간: 3시간 / 충전단자: USB타입C / 핸즈프리통화 / 전용어플 / 터치버튼 / 볼륨조절 / 케이블길이: 1.2m / 무게:254g\n",
      "\n",
      "2020.08 / 쇼핑몰 : 165개 / 4.8점 (570)\n",
      "==================================================\n",
      "로지텍 G304 LIGHTSPEED WIRELESS (정품) (블랙)\n",
      "\n",
      "마우스 / 광 / DPI+5버튼 / 무선 / AA형 1개 / USB / 상하 / 센서: HERO / 12000DPI / 게이밍 마우스 / 소프트웨어 지원 / 116mm / 62mm / 38mm / 99g / 2년 보증\n",
      "\n",
      "2018.05 / 쇼핑몰 : 347개 / 4.8점 (3,385)\n",
      "==================================================\n"
     ]
    }
   ],
   "source": [
    "html = driver.page_source\n",
    "soup = BeautifulSoup(html, \"html.parser\")\n",
    "table = soup.find(\"div\", {\"id\": \"wishProductListArea\"})\n",
    "infos = table.select(\"td.info\")\n",
    "for info in infos:\n",
    "    title = info.select(\"div.tit\")[0].text\n",
    "    discript = info.select(\"dd.spec_list\")[0].text\n",
    "    div = info.select(\"div.sub_info\")[0]\n",
    "    items = div.select(\"dl\")\n",
    "    date = items[0].text.strip().split(\"\\n\")[1]\n",
    "    sale_mall = items[1].text.strip().split(\"\\n\")[1]\n",
    "    score = items[2].text.strip()\n",
    "    print(title)\n",
    "    print(discript)\n",
    "    print(date, end=\" / \")\n",
    "    print(\"쇼핑몰 :\", sale_mall, end=' / ')\n",
    "    print(score)\n",
    "    print(\"=\" * 50)"
   ]
  },
  {
   "cell_type": "code",
   "execution_count": null,
   "id": "55889404",
   "metadata": {},
   "outputs": [],
   "source": []
  }
 ],
 "metadata": {
  "kernelspec": {
   "display_name": "Python 3 (ipykernel)",
   "language": "python",
   "name": "python3"
  },
  "language_info": {
   "codemirror_mode": {
    "name": "ipython",
    "version": 3
   },
   "file_extension": ".py",
   "mimetype": "text/x-python",
   "name": "python",
   "nbconvert_exporter": "python",
   "pygments_lexer": "ipython3",
   "version": "3.9.7"
  }
 },
 "nbformat": 4,
 "nbformat_minor": 5
}
