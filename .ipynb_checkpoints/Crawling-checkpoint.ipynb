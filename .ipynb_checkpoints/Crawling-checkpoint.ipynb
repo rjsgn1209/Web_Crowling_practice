{
 "cells": [
  {
   "cell_type": "markdown",
   "id": "bbf4f98f",
   "metadata": {},
   "source": [
    "# Crawling(scrapying)\n",
    "\n",
    "## web구성하는 언어 - html, css, javascript\n",
    "- html은 웹을 기본 구조를 구성하는 스크립트 언어..\n",
    "- css는 웹을 꾸며주는 언어\n",
    "- javascript 웹이 동적으로 작동하도록 만드는 언어..\n",
    "\n",
    "## html\n",
    "- 기본 구조는 태그 - 여는 태크 '<' , 닫는 태그 '/>'\n",
    "- 태크 계층 구조 부모태그, 자식태그,,\n",
    "- \\<head> 정보... \\<head> : 웹의 정보를 담고 있는 태그\n",
    "- \\<body> 태그... \\</body> : 웹에서 눈으로 보는 내용이 들어있는 태그..\n",
    "    "
   ]
  },
  {
   "cell_type": "code",
   "execution_count": 2,
   "id": "e4f1f0d8",
   "metadata": {},
   "outputs": [],
   "source": [
    "<html>\n",
    "    <head>\n",
    "        web page meta정보\n",
    "    </head>\n",
    "    <body>\n",
    "        웹페이지에서 보여지는 콘텐츠가 들어가는 부분..\n",
    "        <p>문달을 나타냅니다</p>   # p : 문단 태그\n",
    "        <div>\n",
    "            <h3>제목을 나타냅니다</h3>    # div : 박스태그, h : 제목태그\n",
    "        </div>\n",
    "    </body>\n",
    "</html>"
   ]
  },
  {
   "cell_type": "code",
   "execution_count": 5,
   "id": "aaddfc42",
   "metadata": {},
   "outputs": [],
   "source": [
    "html = \"\"\"\n",
    "    <html>\n",
    "    <head>\n",
    "        web page meta정보\n",
    "    </head>\n",
    "    <body>\n",
    "        <table border = 1>  # table : 표를 만드는 태그\n",
    "        <tr>   # tr : 테이블의 행\n",
    "            <td>항목</td>    # td : 테이블의 칼럼\n",
    "            <td>2013</td>\n",
    "            <td>2014</td>\n",
    "        <tr>\n",
    "        <tr>\n",
    "            <td>항목</td>\n",
    "            <td>2013</td>\n",
    "            <td>2014</td>\n",
    "        </tr>\n",
    "    </body>\n",
    "</html>\n",
    "\"\"\""
   ]
  },
  {
   "cell_type": "code",
   "execution_count": null,
   "id": "ff67cdfa",
   "metadata": {},
   "outputs": [],
   "source": [
    "<html>\n",
    "    <head>\n",
    "        <style> # css 스타일\n",
    "            p {color: blue;}\n",
    "            div {color : red;}\n",
    "        </style>\n",
    "    </head>\n",
    "    <body>\n",
    "        <p> paragragh1 </p>\n",
    "        <p> paragragh1 </p>\n",
    "        <div> paragragh1 </div>\n",
    "        \n",
    "    </body>\n",
    "</html>"
   ]
  },
  {
   "cell_type": "code",
   "execution_count": 3,
   "id": "b9e5d24c",
   "metadata": {
    "collapsed": true
   },
   "outputs": [
    {
     "ename": "SyntaxError",
     "evalue": "invalid syntax (Temp/ipykernel_476/819995416.py, line 1)",
     "output_type": "error",
     "traceback": [
      "\u001b[1;36m  File \u001b[1;32m\"C:\\Users\\bitcamp\\AppData\\Local\\Temp/ipykernel_476/819995416.py\"\u001b[1;36m, line \u001b[1;32m1\u001b[0m\n\u001b[1;33m    <html>\u001b[0m\n\u001b[1;37m    ^\u001b[0m\n\u001b[1;31mSyntaxError\u001b[0m\u001b[1;31m:\u001b[0m invalid syntax\n"
     ]
    }
   ],
   "source": [
    "<html>\n",
    "    <head>\n",
    "        <style>\n",
    "            #title {color: blue;} # id : 전체 웹문서에서 단 한곳에만 적용 가능\n",
    "            .par{color: red;}      # class : 여러 곳에 적용이 가능\n",
    "        </style>\n",
    "    </head>\n",
    "    <body>\n",
    "        <p id=title> paragragh1 </p>\n",
    "        <p class=par> paragragh2 </p>\n",
    "        <div class=par> div1 </div>\n",
    "    </body>\n",
    "</html>"
   ]
  },
  {
   "cell_type": "code",
   "execution_count": 8,
   "id": "c1edcb64",
   "metadata": {},
   "outputs": [],
   "source": [
    "from bs4 import BeautifulSoup"
   ]
  },
  {
   "cell_type": "code",
   "execution_count": 9,
   "id": "74637f26",
   "metadata": {},
   "outputs": [
    {
     "data": {
      "text/plain": [
       "'\\n    <html>\\n    <head>\\n        web page meta정보\\n    </head>\\n    <body>\\n        <table border = 1>  # table : 표를 만드는 태그\\n        <tr>   # tr : 테이블의 행\\n            <td>항목</td>    # td : 테이블의 칼럼\\n            <td>2013</td>\\n            <td>2014</td>\\n        <tr>\\n        <tr>\\n            <td>항목</td>\\n            <td>2013</td>\\n            <td>2014</td>\\n        </tr>\\n    </body>\\n</html>\\n'"
      ]
     },
     "execution_count": 9,
     "metadata": {},
     "output_type": "execute_result"
    }
   ],
   "source": [
    "html"
   ]
  },
  {
   "cell_type": "code",
   "execution_count": 10,
   "id": "63bf2ed2",
   "metadata": {},
   "outputs": [],
   "source": [
    "soup = BeautifulSoup(html, 'html.parser')"
   ]
  },
  {
   "cell_type": "code",
   "execution_count": 12,
   "id": "c821fb62",
   "metadata": {},
   "outputs": [
    {
     "data": {
      "text/plain": [
       "'2013'"
      ]
     },
     "execution_count": 12,
     "metadata": {},
     "output_type": "execute_result"
    }
   ],
   "source": [
    "soup.select('td')[1].text"
   ]
  },
  {
   "cell_type": "code",
   "execution_count": 13,
   "id": "61ccb1f4",
   "metadata": {},
   "outputs": [
    {
     "name": "stdout",
     "output_type": "stream",
     "text": [
      "항목\n",
      "2013\n",
      "2014\n",
      "항목\n",
      "2013\n",
      "2014\n"
     ]
    }
   ],
   "source": [
    "for t in soup.select('td'):\n",
    "    print(t.text)"
   ]
  },
  {
   "cell_type": "code",
   "execution_count": 20,
   "id": "f5884865",
   "metadata": {},
   "outputs": [],
   "source": [
    "html = \"\"\"\n",
    "<body>\n",
    "<div>\n",
    "    <div class='snack'>\n",
    "        <p id='first'> 양파링</p>\n",
    "        <p id='second'> 새우깡</p>\n",
    "        <p> 초코파이</p>\n",
    "        <p class='sweet'> 맛동산 </p>\n",
    "        \n",
    "    <div class='icecream'>\n",
    "        <p> 빵빠레</p>\n",
    "        <p id='third'> 죠스바</p>\n",
    "        <p> 꼬깔콘</p>\n",
    "        <p class='sweet'> 쭈쭈바</p>\n",
    "    </div>\n",
    "</div>\n",
    "</body>\n",
    "\"\"\""
   ]
  },
  {
   "cell_type": "code",
   "execution_count": 21,
   "id": "e0209c0c",
   "metadata": {},
   "outputs": [],
   "source": [
    "soup = BeautifulSoup(html, 'html.parser')"
   ]
  },
  {
   "cell_type": "code",
   "execution_count": 22,
   "id": "4c4b702f",
   "metadata": {},
   "outputs": [],
   "source": [
    "# p태그의 텍스트를 모두 출력하시오.."
   ]
  },
  {
   "cell_type": "code",
   "execution_count": 28,
   "id": "e03cdc5f",
   "metadata": {},
   "outputs": [
    {
     "name": "stdout",
     "output_type": "stream",
     "text": [
      " 양파링\n",
      " 새우깡\n",
      " 초코파이\n",
      " 맛동산 \n",
      " 빵빠레\n",
      " 죠스바\n",
      " 꼬깔콘\n",
      " 쭈쭈바\n"
     ]
    }
   ],
   "source": [
    "for t in soup.select('p'):\n",
    "    print(t.text)"
   ]
  },
  {
   "cell_type": "code",
   "execution_count": 29,
   "id": "4678febc",
   "metadata": {},
   "outputs": [],
   "source": [
    "# '양파일'을 출력하시오.."
   ]
  },
  {
   "cell_type": "code",
   "execution_count": 34,
   "id": "675f162d",
   "metadata": {},
   "outputs": [
    {
     "data": {
      "text/plain": [
       "'양파링'"
      ]
     },
     "execution_count": 34,
     "metadata": {},
     "output_type": "execute_result"
    }
   ],
   "source": [
    "soup.select('p#first')[0].text.strip()"
   ]
  },
  {
   "cell_type": "code",
   "execution_count": 35,
   "id": "1cf09194",
   "metadata": {},
   "outputs": [],
   "source": [
    "# '죠스바'를 출력하시오.."
   ]
  },
  {
   "cell_type": "code",
   "execution_count": 36,
   "id": "ee774b0b",
   "metadata": {},
   "outputs": [
    {
     "data": {
      "text/plain": [
       "'죠스바'"
      ]
     },
     "execution_count": 36,
     "metadata": {},
     "output_type": "execute_result"
    }
   ],
   "source": [
    "soup.select('p#third')[0].text.strip()"
   ]
  },
  {
   "cell_type": "code",
   "execution_count": 39,
   "id": "57cf1c54",
   "metadata": {},
   "outputs": [
    {
     "data": {
      "text/plain": [
       "'죠스바'"
      ]
     },
     "execution_count": 39,
     "metadata": {},
     "output_type": "execute_result"
    }
   ],
   "source": [
    "soup.find(\"p\", {\"id\": \"third\"}).text.strip()"
   ]
  },
  {
   "cell_type": "code",
   "execution_count": null,
   "id": "86fbd6e1",
   "metadata": {},
   "outputs": [],
   "source": []
  },
  {
   "cell_type": "code",
   "execution_count": 40,
   "id": "22fa1f3c",
   "metadata": {},
   "outputs": [],
   "source": [
    "# '맛동산'을 출력하시오.."
   ]
  },
  {
   "cell_type": "code",
   "execution_count": 46,
   "id": "e8bdbd47",
   "metadata": {},
   "outputs": [
    {
     "data": {
      "text/plain": [
       "'맛동산'"
      ]
     },
     "execution_count": 46,
     "metadata": {},
     "output_type": "execute_result"
    }
   ],
   "source": [
    "soup.select('p.sweet')[0].text.strip()"
   ]
  },
  {
   "cell_type": "code",
   "execution_count": 50,
   "id": "b403c61e",
   "metadata": {},
   "outputs": [
    {
     "data": {
      "text/plain": [
       "'맛동산'"
      ]
     },
     "execution_count": 50,
     "metadata": {},
     "output_type": "execute_result"
    }
   ],
   "source": [
    "soup.find('p', {\"class\": \"sweet\"}).text.strip()"
   ]
  },
  {
   "cell_type": "code",
   "execution_count": null,
   "id": "7addd2b0",
   "metadata": {},
   "outputs": [],
   "source": []
  },
  {
   "cell_type": "code",
   "execution_count": null,
   "id": "22272698",
   "metadata": {},
   "outputs": [],
   "source": [
    "# 네이버 메뉴 크롤링"
   ]
  },
  {
   "cell_type": "code",
   "execution_count": 70,
   "id": "5b5acdfd",
   "metadata": {},
   "outputs": [
    {
     "name": "stdout",
     "output_type": "stream",
     "text": [
      "['메일', '카페', '블로그', '지식iN', '쇼핑', '쇼핑LIVE', 'Pay', 'TV']\n"
     ]
    }
   ],
   "source": [
    "import requests\n",
    "url = 'https://www.naver.com/'\n",
    "request = requests.get(url)\n",
    "soup = BeautifulSoup(request.text, \"html.parser\")\n",
    "menu = soup.find(\"div\", {\"class\": \"group_nav\"})\n",
    "menu = menu.find(\"ul\", {\"class\": \"list_nav type_fix\"})\n",
    "items = menu.find_all(\"li\", {\"class\": \"nav_item\"})\n",
    "li = []\n",
    "for item in items:\n",
    "    li.append(item.get_text().strip(\"\\n\"))\n",
    "print(li)"
   ]
  },
  {
   "cell_type": "code",
   "execution_count": 75,
   "id": "27405851",
   "metadata": {},
   "outputs": [],
   "source": [
    "path = \"#NM_FAVORITE > div.group_nav > ul.list_nav.NM_FAVORITE_LIST > li\""
   ]
  },
  {
   "cell_type": "code",
   "execution_count": null,
   "id": "369adf37",
   "metadata": {},
   "outputs": [],
   "source": [
    "# <li> ... </li> : 목록을 만드는 태그\n",
    "# <a href = 'http://www.daum.net'> 다음 </a>"
   ]
  },
  {
   "cell_type": "code",
   "execution_count": 88,
   "id": "b6be8ac8",
   "metadata": {},
   "outputs": [
    {
     "name": "stdout",
     "output_type": "stream",
     "text": [
      "사전 https://dict.naver.com/\n",
      "뉴스 https://news.naver.com/\n",
      "증권 https://finance.naver.com/\n",
      "부동산 https://land.naver.com/\n",
      "지도 https://map.naver.com/\n",
      "VIBE https://vibe.naver.com/\n",
      "책 https://book.naver.com/\n",
      "웹툰 https://comic.naver.com/\n"
     ]
    }
   ],
   "source": [
    "res = requests.get('https://www.naver.com/')\n",
    "soup = BeautifulSoup(res.text, \"html.parser\")\n",
    "lis = soup.select(path)\n",
    "for li in lis:\n",
    "    print(li.text, li.select('a')[0]['href'])"
   ]
  },
  {
   "cell_type": "code",
   "execution_count": 101,
   "id": "17352c7d",
   "metadata": {},
   "outputs": [],
   "source": [
    "# 다음뉴스 타이틀 크롤링"
   ]
  },
  {
   "cell_type": "code",
   "execution_count": 100,
   "id": "0cda726d",
   "metadata": {},
   "outputs": [
    {
     "name": "stdout",
     "output_type": "stream",
     "text": [
      "# [투데이 窓]빅데이터에서 미래를 읽는 통찰력\n",
      "# 통화 방송 후 사흘.. 관심도 李 46 vs 尹 54 l 빅데이터랩\n",
      "# 악재 뜨면 이슈로 맞불.. 李 이번엔 'TV토론 카드'?ㅣ빅데이터랩\n",
      "# 대전시, 빅데이터 활용 '지역사회건강지도' 구축\n",
      "# 경기도 빅데이터위원회 열고 ‘데이터 기반 도정혁신 방안’ 논의\n",
      "# 경기도,도 빅데이터위원회 개최…올해 경기도 마이데이터 플랫폼 개시\n",
      "# 빅데이터로 우범 지역 핀셋 관리..서초구, '예측범죄지도' 도입\n",
      "# 1인 셀러부터 동네 가게 사장님까지 소상공인도 빅데이터 활용 시대\n",
      "# 산림청 빅데이터 등 과학기술 기반 산불 대응체계 구축\n",
      "# 1월 식품 상장기업 브랜드 평판 빅데이터 분석..CJ제일제당 > 오리온 > 농심 > 오뚜기\n"
     ]
    }
   ],
   "source": [
    "url = \"https://search.daum.net/search?w=news&nil_search=btn&DA=NTB&enc=utf8&cluster=y&cluster_page=1&q=%EB%B9%85%EB%8D%B0%EC%9D%B4%ED%84%B0\"\n",
    "request = requests.get(url)\n",
    "soup = BeautifulSoup(request.text, \"html.parser\")\n",
    "li_news = soup.find(\"ul\", {\"class\": \"list_news\"})\n",
    "news = li_news.find_all(\"a\", {\"class\": \"tit_main fn_tit_u\"})\n",
    "\n",
    "for new in news:\n",
    "    print(\"#\", new.text)\n",
    "    "
   ]
  },
  {
   "cell_type": "code",
   "execution_count": 146,
   "id": "a2d4cbc8",
   "metadata": {},
   "outputs": [],
   "source": [
    "path = \"#newsColl > div.cont_divider > ul > li\""
   ]
  },
  {
   "cell_type": "code",
   "execution_count": 161,
   "id": "3c65d5ac",
   "metadata": {
    "collapsed": true
   },
   "outputs": [
    {
     "name": "stdout",
     "output_type": "stream",
     "text": [
      "[투데이 窓]빅데이터에서 미래를 읽는 통찰력\n",
      "http://v.media.daum.net/v/20220119020501044?f=o\n",
      "새 강자 그룹은 IT 기반 플랫폼을 보유한 기업들이다. 플랫폼의 강점은 데이터다. 데이터가 모이고 유통되는 곳이 바로 플랫폼이다. 데이터는 21세기 원유가 됐고 바야흐로 빅데이터 시대를 맞게 된 것이다. 새해 벽두, 애플은 새 진기록을 세웠다. 1월4일 사상 처음...\n",
      "==================\n",
      "\n",
      "통화 방송 후 사흘.. 관심도 李 46 vs 尹 54 l 빅데이터랩\n",
      "http://v.media.daum.net/v/20220119141604019?f=o\n",
      "그리고 지난 한 주간 온라인상 대선 관련 민심, 관심의 흐름은 어떻게 전개되고 있을까요. JTBC가 기획ㆍ개발한 빅데이터 분석 플랫폼 'JTBC빅데이터랩'이 실시간으로, 그리고 한 주간 누적으로 관심과 호감의 변화 양상을 추적합니다. 지난 16일 저녁 국민의힘...\n",
      "==================\n",
      "\n",
      "악재 뜨면 이슈로 맞불.. 李 이번엔 'TV토론 카드'?ㅣ빅데이터랩\n",
      "http://v.media.daum.net/v/20220119111204914?f=o\n",
      "언급량이 늘어났습니다. 'TV토론'과 'TV방송', 이 두 키워드가 어떻게 한 주간 대선판에서 작동했는지 함께 살펴보겠습니다. JTBC빅데이터랩은 뉴스ㆍ커뮤니티ㆍ블로그 등 온라인상의 민심 동향을 추적해 분석하고 있습니다. 일주일 누적 데이터부터 보겠습니다...\n",
      "==================\n",
      "\n",
      "[칼럼] 올해 빅데이터 정책 특화교육 디지털 전환 촉진\n",
      "https://cp.news.search.daum.net/p/115217602\n",
      "경기도는 데이터 기반의 산업 혁신과 디지털로 전환 촉진 기반을 마련하기 위해 노력하고 있다”라며 “빅데이터위원회에서 논의된 사항을 바탕으로 데이터 기반 혁신 사업을 성공적으로 추진하기 위해 최선을 다하겠다. 그러면서 경기도는 도정의 디지털전환과...\n",
      "==================\n",
      "\n",
      "대전시, 빅데이터 활용 '지역사회건강지도' 구축\n",
      "http://v.media.daum.net/v/20220119101925108?f=o\n",
      "흡연·음주·정신건강 등 주요지표 10개 영역 데이터 시각화 대전시 지역사회건강지도 빅데이터 시스템 / 대전시 제공 [더팩트 | 대전=최영규 기자] 대전 시민들의 주요 건강지표 테이터를 시 홈페이지에서 한 눈에 볼 수 있게 됐다. 19일 시에 따르면 2010년부터...\n",
      "==================\n",
      "\n",
      "경기도 빅데이터위원회 열고 ‘데이터 기반 도정혁신 방안’ 논의\n",
      "https://cp.news.search.daum.net/p/115196341\n",
      "활용, 관리할 수 있는 ‘경기도 마이데이터 플랫폼’ 서비스를 시작한다.경기도는 1월 18일 수원시 경기도R&DB센터에서 2022년 빅데이터위원회 제1차 회의를 개최했다. 위원회에서는 위원장(공병훈 협성대 교수)을 포함해 당연직.위촉직 위원 등 총 12명이 참석한...\n",
      "==================\n",
      "\n",
      "경기도,도 빅데이터위원회 개최…올해 경기도 마이데이터 플랫폼 개시\n",
      "https://cp.news.search.daum.net/p/115196941\n",
      "활용, 관리할 수 있는 ‘경기도 마이데이터 플랫폼’ 서비스를 시작한다. 경기도는 18일 수원시 경기도R&DB센터에서 2022년 빅데이터위원회 제1차 회의를 개최했다. 위원회에서는 위원장(공병훈 협성대 교수)을 포함해 당연직·위촉직 위원 등 총 12명이 참석한...\n",
      "==================\n",
      "\n",
      "빅데이터로 우범 지역 핀셋 관리..서초구, '예측범죄지도' 도입\n",
      "http://v.media.daum.net/v/20220119093654189?f=o\n",
      "서울 서초구 제공. 재판매 및 DB 금지] (서울=연합뉴스) 고현실 기자 = 서울 서초구는 범죄발생 가능성이 높은 지역을 빅데이터로 예측해 시간대별로 집중 감시하는 '예측범죄지도(Predictive Crime Map) 시스템'을 전국 최초로 도입한다고 19일 밝혔다. 한국...\n",
      "==================\n",
      "\n",
      "1인 셀러부터 동네 가게 사장님까지 소상공인도 빅데이터 활용 시대\n",
      "http://v.media.daum.net/v/20220117061022116?f=o\n",
      "미용실이나 노점상, 요식업 등 자영업자와 소규모 비즈니스도 뛰어들고 있다. 개인의 숙련도와 ‘감’에 의존했던 분야에서도 빅데이터 혁신의 바람이 불고 있다. ‘이코노미조선’은 자영업자 등 소규모 사업체가 빅데이터를 활용하기 위해 고군분투하는 현장을...\n",
      "==================\n",
      "\n",
      "산림청 빅데이터 등 과학기술 기반 산불 대응체계 구축\n",
      "http://v.media.daum.net/v/20220119111009801?f=o\n",
      "을 발표했다. / 산림청 제공 [더팩트 | 대전=박종명 기자] 효과적인 산불 방지를 위해 올해 초대형 헬기 1대가 새로 도입되고 빅데이터 등 과학기술에 기반한 대응 체계가 구축된다. 산림청은 19일 이 같은 내용의 '2022년 K-산불방지 종합대책'을 추진한다고 밝혔다...\n",
      "==================\n",
      "\n"
     ]
    }
   ],
   "source": [
    "res = requests.get(url)\n",
    "soup = BeautifulSoup(res.text, \"html.parser\")\n",
    "lis = soup.select(path)\n",
    "for li in lis:\n",
    "    print(li.select(\"a.tit_main.fn_tit_u\")[0].text)\n",
    "    print(li.select(\"a.tit_main.fn_tit_u\")[0]['href'])\n",
    "    print(li.select(\"p.desc\")[0].text)\n",
    "    print(\"=\" * 18)\n",
    "    print(\"\")\n",
    "    "
   ]
  },
  {
   "cell_type": "code",
   "execution_count": null,
   "id": "ff3b761e",
   "metadata": {},
   "outputs": [],
   "source": [
    "# 검색어로 입력 받은 후 해당 검색어로 검색하고 결과 다음 뉴스 페이지에서\n",
    "# 검색한 결과의 제목, url, summary를 크롤링하시오.\n",
    "# url을 잘조사하면"
   ]
  },
  {
   "cell_type": "code",
   "execution_count": null,
   "id": "ed9c83fa",
   "metadata": {},
   "outputs": [],
   "source": []
  },
  {
   "cell_type": "code",
   "execution_count": 178,
   "id": "82c0482c",
   "metadata": {
    "collapsed": true
   },
   "outputs": [
    {
     "name": "stdout",
     "output_type": "stream",
     "text": [
      "검색어를 입력하십시오: 카카오\n",
      "\"신뢰도, 9만선도 깨졌다\"..카카오 담은 개미 '비명'\n",
      "http://v.media.daum.net/v/20220119153303726?f=o\n",
      "카카오 그룹주 동반 약세\n",
      "===================\n",
      "\n",
      "카카오뱅크, 피싱 사기 예방 사업에 200억원 쓴다\n",
      "http://v.media.daum.net/v/20220119153216687?f=o\n",
      "금융교육·금융사기 예방 홍보활동 강화\n",
      "===================\n",
      "\n",
      "페이 이어 뱅크마저.. 윤호영 카카오뱅크 대표 스톡옵션 행사\n",
      "http://v.media.daum.net/v/20220119153034604?f=o\n",
      "윤호영 대표 25만주 중 일부 스톡옵션 행사 임기 오는 3월까지로 만큼 추가 행사는 없을 것\n",
      "===================\n",
      "\n",
      "[팩트체크] 카카오톡 대화 내용, 청와대가 감시한다?\n",
      "http://v.media.daum.net/v/20220119135547308?f=o\n",
      "'카카오톡에 청와대앱이 설치됐다'는 글과 대처법 인터넷에 확산'소셜 로그인' 잘못 이해한 데서 비롯된 허위 정보'소셜 로그인', 편리하지만 과도한 개인정보 제공은 문제\n",
      "===================\n",
      "\n",
      "카카오페이 경영진 ‘먹튀 논란’에 쇄신안 마련 불구 잡음 여전히\n",
      "https://cp.news.search.daum.net/p/115220305\n",
      "카카오페이가 지난해 11월 3일 유가증권시장에 신규 상장했다. /사진제공=한국거래소 [한국금융신문 김경찬 기자] 경영진의 스톡옵션 행사로 내홍을 겪고 이는 카카오페이의 주가가 연일 신저가를 기록하고 있으며 카카오페이증권 임직원들이 대거 이직을 준비하는...\n",
      "===================\n",
      "\n",
      "'9만4000원→4만2000원' 카카오뱅크, 연일 신저가..내달 기관 물량폭탄도\n",
      "http://v.media.daum.net/v/20220119144201222?f=o\n",
      "[매경DB] 인터넷전문은행 카카오뱅크가 연일 신저가 기록을 갈아치우고 있다. 미국의 긴축 움직임에 빅테크 주식들이 지지부진한 가운데 내달 초 기관 투자자 보유 물량이 보호예수에서 대거 해제되는 점도 주가를 억누르는 요인으로 지목된다. 19일 오후 1시 50...\n",
      "===================\n",
      "\n",
      "카카오뱅크, 피싱 사기 예방 등 사회공헌활동에 200억 지원\n",
      "http://v.media.daum.net/v/20220119145838996?f=o\n",
      "금융교육 및 금융사기 예방 홍보활동 강화\n",
      "===================\n",
      "\n",
      "대구·경북카카오대리기사연합회, 성금 전달 외 [수성소식]\n",
      "http://v.media.daum.net/v/20220119151101660?f=o\n",
      "대구·경북카카오대리기사연합회가 이웃돕기 성금을 수성구청에 전달한 후 기념촬영을 하고 있다. (수성구 제공) 2022.01.19 대구·경북카카오대리기사연합회는 지난 14일 어려운 이웃들을 위해 써달라며 성금 120만 원을 수성구청에 전달했다. 이번 성금은 회원들이...\n",
      "===================\n",
      "\n",
      "\"성과급 vs 먹튀\"...카카오 CEO들 '스톡옵션' 행사 논란 왜?\n",
      "https://cp.news.search.daum.net/p/115217482\n",
      "【 청년일보 】 류영준 카카오페이 대표에 이어 윤호영 카카오뱅크 대표도 최근 자신이 보유한 주식매수선택권(스톡옵션) 중 일부를 행사한 것으로 확인됐다. 류 대표는 지난해 11월 25일 카카오 신임 공동대표로 내정됐으나. 카카오페이가 증시 상장 후 약 한달...\n",
      "===================\n",
      "\n",
      "카카오뱅크, 금융사고 예방 위해 200억 지원\n",
      "http://v.media.daum.net/v/20220119135030170?f=o\n",
      "카카오뱅크는 19일 이사회를 통해 '모바일 금융 안전망 강화' 등을 사회책임활동의 주요 안건으로 선정하고 올해부터 5년간 총 200억원을 지원하기로 의결했다고 밝혔다. 날로 교묘해지고 있는 금융사기로부터 안전한 금융 거래 환경을 갖추기 위한 사회적 노력이 더...\n",
      "===================\n",
      "\n"
     ]
    }
   ],
   "source": [
    "word = input(\"검색어를 입력하십시오: \")\n",
    "url = f\"https://search.daum.net/search?nil_suggest=btn&w=news&DA=SBC&q={word}\"\n",
    "request = requests.get(url)\n",
    "soup = BeautifulSoup(request.text, \"html.parser\")\n",
    "ul = soup.find(\"ul\", {\"class\": \"list_news\"})\n",
    "news = ul.find_all(\"div\", {\"class\": \"wrap_cont\"})\n",
    "for new in news:\n",
    "    print(new.find(\"a\").text)\n",
    "    print(new.find(\"a\")[\"href\"])\n",
    "    print(new.find(\"p\").text)\n",
    "    print(\"===================\")\n",
    "    print('')"
   ]
  },
  {
   "cell_type": "code",
   "execution_count": 179,
   "id": "655f84ac",
   "metadata": {},
   "outputs": [
    {
     "ename": "AttributeError",
     "evalue": "ResultSet object has no attribute 'text'. You're probably treating a list of elements like a single element. Did you call find_all() when you meant to call find()?",
     "output_type": "error",
     "traceback": [
      "\u001b[1;31m---------------------------------------------------------------------------\u001b[0m",
      "\u001b[1;31mAttributeError\u001b[0m                            Traceback (most recent call last)",
      "\u001b[1;32m~\\AppData\\Local\\Temp/ipykernel_476/2279673554.py\u001b[0m in \u001b[0;36m<module>\u001b[1;34m\u001b[0m\n\u001b[1;32m----> 1\u001b[1;33m \u001b[0msoup\u001b[0m\u001b[1;33m.\u001b[0m\u001b[0mselect\u001b[0m\u001b[1;33m(\u001b[0m\u001b[0mpath\u001b[0m\u001b[1;33m)\u001b[0m\u001b[1;33m[\u001b[0m\u001b[1;36m0\u001b[0m\u001b[1;33m]\u001b[0m\u001b[1;33m.\u001b[0m\u001b[0mselect\u001b[0m\u001b[1;33m(\u001b[0m\u001b[1;34m'a.tit_main'\u001b[0m\u001b[1;33m)\u001b[0m\u001b[1;33m.\u001b[0m\u001b[0mtext\u001b[0m\u001b[1;33m\u001b[0m\u001b[1;33m\u001b[0m\u001b[0m\n\u001b[0m",
      "\u001b[1;32m~\\anaconda3\\lib\\site-packages\\bs4\\element.py\u001b[0m in \u001b[0;36m__getattr__\u001b[1;34m(self, key)\u001b[0m\n\u001b[0;32m   2251\u001b[0m     \u001b[1;32mdef\u001b[0m \u001b[0m__getattr__\u001b[0m\u001b[1;33m(\u001b[0m\u001b[0mself\u001b[0m\u001b[1;33m,\u001b[0m \u001b[0mkey\u001b[0m\u001b[1;33m)\u001b[0m\u001b[1;33m:\u001b[0m\u001b[1;33m\u001b[0m\u001b[1;33m\u001b[0m\u001b[0m\n\u001b[0;32m   2252\u001b[0m         \u001b[1;34m\"\"\"Raise a helpful exception to explain a common code fix.\"\"\"\u001b[0m\u001b[1;33m\u001b[0m\u001b[1;33m\u001b[0m\u001b[0m\n\u001b[1;32m-> 2253\u001b[1;33m         raise AttributeError(\n\u001b[0m\u001b[0;32m   2254\u001b[0m             \u001b[1;34m\"ResultSet object has no attribute '%s'. You're probably treating a list of elements like a single element. Did you call find_all() when you meant to call find()?\"\u001b[0m \u001b[1;33m%\u001b[0m \u001b[0mkey\u001b[0m\u001b[1;33m\u001b[0m\u001b[1;33m\u001b[0m\u001b[0m\n\u001b[0;32m   2255\u001b[0m         )\n",
      "\u001b[1;31mAttributeError\u001b[0m: ResultSet object has no attribute 'text'. You're probably treating a list of elements like a single element. Did you call find_all() when you meant to call find()?"
     ]
    }
   ],
   "source": [
    "soup.select(path)[0].select('a.tit_main').text"
   ]
  },
  {
   "cell_type": "code",
   "execution_count": 180,
   "id": "6fa696c3",
   "metadata": {},
   "outputs": [],
   "source": [
    "path = \"#newsColl > div.cont_divider > ul > li\""
   ]
  },
  {
   "cell_type": "code",
   "execution_count": 187,
   "id": "b45604ee",
   "metadata": {
    "collapsed": true
   },
   "outputs": [
    {
     "name": "stdout",
     "output_type": "stream",
     "text": [
      "검색값을 입력해주세요sd\n",
      "[<li> <div class=\"wrap_thumb\" id=\"news_img_0\"> <a class=\"thumb\" href=\"http://v.media.daum.net/v/20220116180008555?f=o\" onclick='smartLog(this, \"dc=NNS&amp;d=26wFtRE8OaDDkWdmid&amp;pg=1&amp;r=1&amp;p=1&amp;rc=10&amp;e1=16TJ5PPsTphriNrOcQ&amp;e3=0&amp;ext=dsid=26wFtRE8OaDDkWdmid\", event, {\"cpid\": {\"value\": \"16TJ5PPsTphriNrOcQ\"}});' target=\"_blank\"> <img alt=\"\" class=\"thumb_img\" data-size=\"80x80\" height=\"80\" onerror=\"SF.errorImage(this)\" src=\"https://search1.daumcdn.net/thumb/P200x200/?fname=https%3A%2F%2Fsearch1.kakaocdn.net%2Fargon%2F200x200_85_c%2FAEGLcjs5kiZ0\" width=\"80\"/> </a> </div> <div class=\"wrap_cont\"> <a class=\"tit_main fn_tit_u\" href=\"http://v.media.daum.net/v/20220116180008555?f=o\" onclick='smartLog(this, \"dc=NNS&amp;d=26wFtRE8OaDDkWdmid&amp;pg=1&amp;r=1&amp;p=4&amp;rc=10&amp;e1=16TJ5PPsTphriNrOcQ&amp;e3=0&amp;ext=dsid=26wFtRE8OaDDkWdmid\", event, {\"cpid\": {\"value\": \"16TJ5PPsTphriNrOcQ\"}});' target=\"_blank\">[INTERVIEW] <b>SD</b> Biosensor's having a great pandemic</a> <p class=\"tit_sub f_nb\">SD Biosensor has achieved many firsts in the area of Covid-19 test kits.</p> <p class=\"desc\">Lee Hyo-keun, CEO of <b>SD</b> Biosensor, Korea's largest test kit maker. [<b>SD</b> BIOSENSOR] <b>SD</b> Biosensor has achieved many firsts in the area of Covid-19 test kits. Its Standard Q test kit was the world’s first antigen test kit to receive emergency use...</p> <span class=\"cont_info\"> <span class=\"f_nb\">코리아중앙데일리</span> <span class=\"f_nb\">2022.01.16</span> <a class=\"f_nb\" href=\"http://v.media.daum.net/v/20220116180008555\" onclick='smartLog(this, \"dc=NNS&amp;d=26wFtRE8OaDDkWdmid&amp;pg=1&amp;r=1&amp;p=3&amp;rc=10&amp;e1=16TJ5PPsTphriNrOcQ&amp;e3=0&amp;ext=dsid=26wFtRE8OaDDkWdmid\", event, {\"cpid\": {\"value\": \"16TJ5PPsTphriNrOcQ\"}});' target=\"_blank\">다음뉴스</a> </span> <span id=\"newsSQC_t1_0\" style=\"display:none;\">10301^http://v.media.daum.net/v/20220116180008555?f=o^26wFtRE8OaDDkWdmid^news^mediaArticle^sd^26wFtRE8OaDDkWdmid</span> </div> </li>, <li> <div class=\"wrap_thumb\" id=\"news_img_1\"> <a class=\"thumb\" href=\"https://cp.news.search.daum.net/p/115217331\" onclick='smartLog(this, \"dc=NNS&amp;d=26JddlyNZAAb1UN6b0&amp;pg=1&amp;r=2&amp;p=1&amp;rc=10&amp;e1=16m6acv12x0BGjM8Kg&amp;e3=0&amp;ext=dsid=26JddlyNZAAb1UN6b0\", event, {\"cpid\": {\"value\": \"16m6acv12x0BGjM8Kg\"}});' target=\"_blank\"> <img alt=\"\" class=\"thumb_img\" data-size=\"80x80\" height=\"80\" onerror=\"SF.errorImage(this)\" src=\"https://search1.daumcdn.net/thumb/P200x200/?fname=https%3A%2F%2Fsearch2.kakaocdn.net%2Fargon%2F200x200_85_c%2FIvpZHAeRITj0\" width=\"80\"/> </a> </div> <div class=\"wrap_cont\"> <a class=\"tit_main fn_tit_u\" href=\"https://cp.news.search.daum.net/p/115217331\" onclick='smartLog(this, \"dc=NNS&amp;d=26JddlyNZAAb1UN6b0&amp;pg=1&amp;r=2&amp;p=4&amp;rc=10&amp;e1=16m6acv12x0BGjM8Kg&amp;e3=0&amp;ext=dsid=26JddlyNZAAb1UN6b0\", event, {\"cpid\": {\"value\": \"16m6acv12x0BGjM8Kg\"}});' target=\"_blank\"><b>SD</b>에듀(시대에듀), 2022 화학분석기사 대비 ‘연간 필기패스’ 출시</a> <p class=\"desc\">관심을 얻고 있지만 최근 상승한 난이도로 인해 낮은 합격률을 보이고 있다. 이런 가운데, 온라인 공무원·자격증 강의 브랜드인 <b>SD</b>에듀(시대에듀)에서 2022 화학분석기사 연간 필기패스를 출시했다고 밝혔다. 해당 강의는 2022 화학분석기사 필기시험을 집중적으로...</p> <span class=\"cont_info\"> <span class=\"f_nb\">한국강사신문</span> <span class=\"f_nb\">1시간전</span> </span> <span id=\"newsSQC_t1_1\" style=\"display:none;\">10301^https://cp.news.search.daum.net/p/115217331^26JddlyNZAAb1UN6b0^news^mediaArticle^sd^26JddlyNZAAb1UN6b0</span> </div> </li>, <li> <div class=\"wrap_thumb\" id=\"news_img_2\"> <a class=\"thumb\" href=\"https://cp.news.search.daum.net/p/115137667\" onclick='smartLog(this, \"dc=NNS&amp;d=26O-e3awlAkOa5Te8A&amp;pg=1&amp;r=3&amp;p=1&amp;rc=10&amp;e1=16G9YbrFQ2R9XLwHWI&amp;e3=0&amp;ext=dsid=26O-e3awlAkOa5Te8A\", event, {\"cpid\": {\"value\": \"16G9YbrFQ2R9XLwHWI\"}});' target=\"_blank\"> <img alt=\"\" class=\"thumb_img\" data-size=\"80x80\" height=\"80\" onerror=\"SF.errorImage(this)\" src=\"https://search1.daumcdn.net/thumb/P200x200/?fname=https%3A%2F%2Fsearch3.kakaocdn.net%2Fargon%2F200x200_85_c%2FBZv3eCF8NUV0\" width=\"80\"/> </a> </div> <div class=\"wrap_cont\"> <a class=\"tit_main fn_tit_u\" href=\"https://cp.news.search.daum.net/p/115137667\" onclick='smartLog(this, \"dc=NNS&amp;d=26O-e3awlAkOa5Te8A&amp;pg=1&amp;r=3&amp;p=4&amp;rc=10&amp;e1=16G9YbrFQ2R9XLwHWI&amp;e3=0&amp;ext=dsid=26O-e3awlAkOa5Te8A\", event, {\"cpid\": {\"value\": \"16G9YbrFQ2R9XLwHWI\"}});' target=\"_blank\"><b>SD</b>바이오센서, 제약바이오 업계 첫 매출 3조·영업익 1조 돌파</a> <p class=\"desc\">[이코노믹리뷰=황진중 기자] <b>SD</b>바이오센서(137310)가 제약바이오 기업 처음으로 매출 3조원, 영업이익 1조원을 돌파할 것으로 전망된다. 전세계로 확산된 코로나19 델타, 오미크론 등 변이 바이러스가 항원진단키트 수요 급증으로 이어졌다. <b>SD</b>바이오센서는 포스트...</p> <span class=\"cont_info\"> <span class=\"f_nb\">이코노믹리뷰</span> <span class=\"f_nb\">2022.01.17</span> </span> <span id=\"newsSQC_t1_2\" style=\"display:none;\">10301^https://cp.news.search.daum.net/p/115137667^26O-e3awlAkOa5Te8A^news^mediaArticle^sd^26O-e3awlAkOa5Te8A</span> </div> </li>, <li> <div class=\"wrap_thumb\" id=\"news_img_3\"> <a class=\"thumb\" href=\"https://cp.news.search.daum.net/p/115101345\" onclick='smartLog(this, \"dc=NNS&amp;d=26Ghekfqu602RmXFmK&amp;pg=1&amp;r=4&amp;p=1&amp;rc=10&amp;e1=16vci6n0TWU1mm11bh&amp;e3=0&amp;ext=dsid=26Ghekfqu602RmXFmK\", event, {\"cpid\": {\"value\": \"16vci6n0TWU1mm11bh\"}});' target=\"_blank\"> <img alt=\"\" class=\"thumb_img\" data-size=\"80x80\" height=\"80\" onerror=\"SF.errorImage(this)\" src=\"https://search1.daumcdn.net/thumb/P200x200/?fname=https%3A%2F%2Fsearch3.kakaocdn.net%2Fargon%2F200x200_85_c%2F48EwcVt6Q9E0\" width=\"80\"/> </a> </div> <div class=\"wrap_cont\"> <a class=\"tit_main fn_tit_u\" href=\"https://cp.news.search.daum.net/p/115101345\" onclick='smartLog(this, \"dc=NNS&amp;d=26Ghekfqu602RmXFmK&amp;pg=1&amp;r=4&amp;p=4&amp;rc=10&amp;e1=16vci6n0TWU1mm11bh&amp;e3=0&amp;ext=dsid=26Ghekfqu602RmXFmK\", event, {\"cpid\": {\"value\": \"16vci6n0TWU1mm11bh\"}});' target=\"_blank\"><b>SD</b>바이오센서, 500대 기업 제약사 중 자사주 취득액 1위</a> <p class=\"desc\">진단기업 <b>SD</b>바이오센서(대표 이효근·허태영)가 500대 기업 제약바이오 업종 안에서 자기주식(자사주) 취득액 1위를 기록했다. 또 다른 진단기업 씨젠이 3위로 상위권에 포함됐다.두 기업 모두 신종 코로나바이러스 감염증(코로나19) 대유행 이후 주가가 급등하면서...</p> <span class=\"cont_info\"> <span class=\"f_nb\">CEO스코어데일리</span> <span class=\"f_nb\">2022.01.17</span> </span> <span id=\"newsSQC_t1_3\" style=\"display:none;\">10301^https://cp.news.search.daum.net/p/115101345^26Ghekfqu602RmXFmK^news^mediaArticle^sd^26Ghekfqu602RmXFmK</span> </div> </li>, <li> <div class=\"wrap_thumb\" id=\"news_img_4\"> <a class=\"thumb\" href=\"https://cp.news.search.daum.net/p/114723406\" onclick='smartLog(this, \"dc=NNS&amp;d=26fGXRuaaoGHX6SGby&amp;pg=1&amp;r=5&amp;p=1&amp;rc=10&amp;e1=16RGquvRQfN5F2K0qD&amp;e3=0&amp;ext=dsid=26fGXRuaaoGHX6SGby\", event, {\"cpid\": {\"value\": \"16RGquvRQfN5F2K0qD\"}});' target=\"_blank\"> <img alt=\"\" class=\"thumb_img\" data-size=\"80x80\" height=\"80\" onerror=\"SF.errorImage(this)\" src=\"https://search1.daumcdn.net/thumb/P200x200/?fname=https%3A%2F%2Fsearch1.kakaocdn.net%2Fargon%2F200x200_85_c%2F4ippxTYQ9h30\" width=\"80\"/> </a> </div> <div class=\"wrap_cont\"> <a class=\"tit_main fn_tit_u\" href=\"https://cp.news.search.daum.net/p/114723406\" onclick='smartLog(this, \"dc=NNS&amp;d=26fGXRuaaoGHX6SGby&amp;pg=1&amp;r=5&amp;p=4&amp;rc=10&amp;e1=16RGquvRQfN5F2K0qD&amp;e3=0&amp;ext=dsid=26fGXRuaaoGHX6SGby\", event, {\"cpid\": {\"value\": \"16RGquvRQfN5F2K0qD\"}});' target=\"_blank\">[<b>SD</b>-WAN 평가 및 전망] 클라우드 바람타고 확산일로</a> <p class=\"desc\">빠른 클라우드나 디지털 트랜스포메이션을 뒷받침하기에는 민첩성과 유연성이 턱없이 부족하기 때문으로 혁신 견인차로 <b>SD</b>-WAN이 급부상했다. <b>SD</b>-WAN은 중앙의 데이터센터와 연결되는 고가의 MPLS 링크를 통해 트래픽을 백홀링하는 대신 지사나 지점에서 인터넷으로...</p> <span class=\"cont_info\"> <span class=\"f_nb\">데이터넷</span> <span class=\"f_nb\">2022.01.05</span> </span> <span id=\"newsSQC_t1_4\" style=\"display:none;\">10301^https://cp.news.search.daum.net/p/114723406^26fGXRuaaoGHX6SGby^news^mediaArticle^sd^26fGXRuaaoGHX6SGby</span> </div> </li>, <li> <div class=\"wrap_thumb\" id=\"news_img_5\"> <a class=\"thumb\" href=\"http://v.media.daum.net/v/20220107080030551?f=o\" onclick='smartLog(this, \"dc=NNS&amp;d=26CZ1fvry4PkAPmIEB&amp;pg=1&amp;r=6&amp;p=1&amp;rc=10&amp;e1=16Fbn8iLTIqdeOvaST&amp;e3=0&amp;ext=dsid=26CZ1fvry4PkAPmIEB\", event, {\"cpid\": {\"value\": \"16Fbn8iLTIqdeOvaST\"}});' target=\"_blank\"> <img alt=\"\" class=\"thumb_img\" data-size=\"80x80\" height=\"80\" onerror=\"SF.errorImage(this)\" src=\"https://search1.daumcdn.net/thumb/P200x200/?fname=https%3A%2F%2Fsearch2.kakaocdn.net%2Fargon%2F200x200_85_c%2FBL8tuCxyE7G0\" width=\"80\"/> </a> </div> <div class=\"wrap_cont\"> <a class=\"tit_main fn_tit_u\" href=\"http://v.media.daum.net/v/20220107080030551?f=o\" onclick='smartLog(this, \"dc=NNS&amp;d=26CZ1fvry4PkAPmIEB&amp;pg=1&amp;r=6&amp;p=4&amp;rc=10&amp;e1=16Fbn8iLTIqdeOvaST&amp;e3=0&amp;ext=dsid=26CZ1fvry4PkAPmIEB\", event, {\"cpid\": {\"value\": \"16Fbn8iLTIqdeOvaST\"}});' target=\"_blank\">[우리는 이렇게 채용합니다] <b>SD</b>바이오센서 \"글로벌 무대에서 활약할 '열정' 인재 찾아요\"</a> <p class=\"tit_sub f_nb\">16일까지 창사 이래 최대 공채 모집글로벌 공략위해 영어 구술시험 기본</p> <p class=\"desc\"><b>SD</b>바이오센서 오송 공장 전경 /사진 제공=<b>SD</b>바이오센서 [서울경제] 코로나19 이후 글로벌 기업으로 도약하고 있는 <b>SD</b>바이오센서가 창사 이래 처음으로 대규모 공채를 실시한다. 코로나19 체외진단으로 급성장한 <b>SD</b>바이오센서는 제약·바이오 업계에서 가장 적극적...</p> <span class=\"cont_info\"> <span class=\"f_nb\">서울경제</span> <span class=\"f_nb\">2022.01.07</span> <a class=\"f_nb\" href=\"http://v.media.daum.net/v/20220107080030551\" onclick='smartLog(this, \"dc=NNS&amp;d=26CZ1fvry4PkAPmIEB&amp;pg=1&amp;r=6&amp;p=3&amp;rc=10&amp;e1=16Fbn8iLTIqdeOvaST&amp;e3=0&amp;ext=dsid=26CZ1fvry4PkAPmIEB\", event, {\"cpid\": {\"value\": \"16Fbn8iLTIqdeOvaST\"}});' target=\"_blank\">다음뉴스</a> </span> <span id=\"newsSQC_t1_5\" style=\"display:none;\">10301^http://v.media.daum.net/v/20220107080030551?f=o^26CZ1fvry4PkAPmIEB^news^mediaArticle^sd^26CZ1fvry4PkAPmIEB</span> </div> </li>, <li> <div class=\"wrap_thumb\" id=\"news_img_6\"> <a class=\"thumb\" href=\"https://cp.news.search.daum.net/p/115130108\" onclick='smartLog(this, \"dc=NNS&amp;d=26F8xtqAnhMDSpmYZh&amp;pg=1&amp;r=7&amp;p=1&amp;rc=10&amp;e1=16m_C4ymzWVG-bhRzU&amp;e3=0&amp;ext=dsid=26F8xtqAnhMDSpmYZh\", event, {\"cpid\": {\"value\": \"16m_C4ymzWVG-bhRzU\"}});' target=\"_blank\"> <img alt=\"\" class=\"thumb_img\" data-size=\"80x80\" height=\"80\" onerror=\"SF.errorImage(this)\" src=\"https://search1.daumcdn.net/thumb/P200x200/?fname=https%3A%2F%2Fsearch2.kakaocdn.net%2Fargon%2F200x200_85_c%2FA68mz3l5NYN0\" width=\"80\"/> </a> </div> <div class=\"wrap_cont\"> <a class=\"tit_main fn_tit_u\" href=\"https://cp.news.search.daum.net/p/115130108\" onclick='smartLog(this, \"dc=NNS&amp;d=26F8xtqAnhMDSpmYZh&amp;pg=1&amp;r=7&amp;p=4&amp;rc=10&amp;e1=16m_C4ymzWVG-bhRzU&amp;e3=0&amp;ext=dsid=26F8xtqAnhMDSpmYZh\", event, {\"cpid\": {\"value\": \"16m_C4ymzWVG-bhRzU\"}});' target=\"_blank\"><b>SD</b>바이오센서, 美에 자가검사키트 공급…1천억 규모</a> <p class=\"desc\"><b>SD</b>바이오센서 코로나19 자가검사키트 'COVID-19 Ag Home Test'. 사진/<b>SD</b>바이오센서 [뉴스토마토 동지훈 기자] 에스디바이오센서(137310)는 미국에 코로나19 자가검사키트를 공급하는 998억원 규모의 계약을 체결했다고 17일 밝혔다. 이번 공급 계약은 오미크론 변이...</p> <span class=\"cont_info\"> <span class=\"f_nb\">뉴스토마토</span> <span class=\"f_nb\">2022.01.17</span> </span> <div class=\"cont_rel\"> <dl> <dt class=\"screen_out\">관련기사</dt> <dd> <a class=\"tit_rel f_link\" href=\"https://cp.news.search.daum.net/p/115123701\" onclick='smartLog(this, \"dc=NNS&amp;d=26-FqiD1Y-PDKJIGE9&amp;pg=1&amp;r=7&amp;p=5&amp;rc=10&amp;e1=168lkiqylXNdkl17CR&amp;e3=0&amp;ext=dsid=26-FqiD1Y-PDKJIGE9&amp;rtt=parent&amp;rtid=26F8xtqAnhMDSpmYZh&amp;rtsc=\", event, {\"cpid\": {\"value\": \"168lkiqylXNdkl17CR\"}});' target=\"_blank\"> <b>SD</b>바이오센서, 코로나19 자가키트 840만弗 “美 공... </a> <span class=\"cont_info\"> <span class=\"f_nb\">바이오스펙테이터</span> <span class=\"f_nb\">2022.01.17</span> </span> </dd> <dd> <a class=\"tit_rel f_link\" href=\"https://cp.news.search.daum.net/p/115138028\" onclick='smartLog(this, \"dc=NNS&amp;d=26LSmizzLpllv_5kgq&amp;pg=1&amp;r=7&amp;p=6&amp;rc=10&amp;e1=16VVqCMyZ2O7AIiwj9&amp;e3=0&amp;ext=dsid=26LSmizzLpllv_5kgq&amp;rtt=parent&amp;rtid=26F8xtqAnhMDSpmYZh&amp;rtsc=\", event, {\"cpid\": {\"value\": \"16VVqCMyZ2O7AIiwj9\"}});' target=\"_blank\"> <b>SD</b>바이오센서, 美 코로나19 자가검사키트 998억 규... </a> <span class=\"cont_info\"> <span class=\"f_nb\">청년의사</span> <span class=\"f_nb\">2022.01.17</span> </span> </dd> <dd> <a class=\"tit_rel f_link\" href=\"https://cp.news.search.daum.net/p/115125903\" onclick='smartLog(this, \"dc=NNS&amp;d=26a5ffyv8g4ztzzIFu&amp;pg=1&amp;r=7&amp;p=7&amp;rc=10&amp;e1=16GG4F8WYKCyC8Bw9K&amp;e3=0&amp;ext=dsid=26a5ffyv8g4ztzzIFu&amp;rtt=parent&amp;rtid=26F8xtqAnhMDSpmYZh&amp;rtsc=\", event, {\"cpid\": {\"value\": \"16GG4F8WYKCyC8Bw9K\"}});' target=\"_blank\"> <b>SD</b>바이오센서, 코로나19 자가검사키트 美 공급계약... </a> <span class=\"cont_info\"> <span class=\"f_nb\">e대한경제</span> <span class=\"f_nb\">2022.01.17</span> </span> </dd> </dl> <a class=\"link_cluster f_nb\" href=\"?w=news&amp;req=tab&amp;q=sd&amp;cluster=y&amp;viewio=i&amp;repno=0&amp;n=10&amp;p=1&amp;related_page=1&amp;cluster_docid=26F8xtqAnhMDSpmYZh&amp;DA=NTB\" onclick='smartLog(this, \"dc=NNS&amp;ext=dsid=26F8xtqAnhMDSpmYZh&amp;d=26F8xtqAnhMDSpmYZh&amp;pg=1&amp;r=7&amp;p=19&amp;rc=10&amp;e1=16m_C4ymzWVG-bhRzU\", event);'> 관련뉴스 <b>5</b>건 전체보기<span class=\"ico_rwd\"></span> </a> </div> <span id=\"newsSQC_t1_6\" style=\"display:none;\">10301^https://cp.news.search.daum.net/p/115130108^26F8xtqAnhMDSpmYZh^news^mediaArticle^sd^26F8xtqAnhMDSpmYZh</span> </div> </li>, <li> <div class=\"wrap_thumb\" id=\"news_img_7\"> <a class=\"thumb\" href=\"https://cp.news.search.daum.net/p/114801790\" onclick='smartLog(this, \"dc=NNS&amp;d=26n4IJKfYL_YdOOuA6&amp;pg=1&amp;r=8&amp;p=1&amp;rc=10&amp;e1=161qk_zbvIFknN2wTO&amp;e3=0&amp;ext=dsid=26n4IJKfYL_YdOOuA6\", event, {\"cpid\": {\"value\": \"161qk_zbvIFknN2wTO\"}});' target=\"_blank\"> <img alt=\"\" class=\"thumb_img\" data-size=\"80x80\" height=\"80\" onerror=\"SF.errorImage(this)\" src=\"https://search1.daumcdn.net/thumb/P200x200/?fname=https%3A%2F%2Fsearch3.kakaocdn.net%2Fargon%2F200x200_85_c%2FCmzSAcHuRne0\" width=\"80\"/> </a> </div> <div class=\"wrap_cont\"> <a class=\"tit_main fn_tit_u\" href=\"https://cp.news.search.daum.net/p/114801790\" onclick='smartLog(this, \"dc=NNS&amp;d=26n4IJKfYL_YdOOuA6&amp;pg=1&amp;r=8&amp;p=4&amp;rc=10&amp;e1=161qk_zbvIFknN2wTO&amp;e3=0&amp;ext=dsid=26n4IJKfYL_YdOOuA6\", event, {\"cpid\": {\"value\": \"161qk_zbvIFknN2wTO\"}});' target=\"_blank\">“없어서 못 판다”···셀트리온·<b>SD</b>바이오, 자가진단키트 美 공급 총력</a> <p class=\"desc\">[시사저널e=최다은 기자] 셀트리온과 <b>SD</b>바이오센서의 코로나19 자가진단키트 미국 판로 확장 및 공급 행보에 업계의 이목이 쏠리고 있다. 최근 미국에서 코로나19 진단검사 수요가 폭증하면서 자가진단키트 매진 행렬이 이어지는 가운데 셀트리온과 <b>SD</b>바이오센서는...</p> <span class=\"cont_info\"> <span class=\"f_nb\">시사저널e</span> <span class=\"f_nb\">2022.01.06</span> </span> <span id=\"newsSQC_t1_7\" style=\"display:none;\">10301^https://cp.news.search.daum.net/p/114801790^26n4IJKfYL_YdOOuA6^news^mediaArticle^sd^26n4IJKfYL_YdOOuA6</span> </div> </li>, <li> <div class=\"wrap_thumb\" id=\"news_img_8\"> <a class=\"thumb\" href=\"https://cp.news.search.daum.net/p/114844829\" onclick='smartLog(this, \"dc=NNS&amp;d=263IL5nNuFYpjaUdOF&amp;pg=1&amp;r=9&amp;p=1&amp;rc=10&amp;e1=16vci6n0TWU1mm11bh&amp;e3=0&amp;ext=dsid=263IL5nNuFYpjaUdOF\", event, {\"cpid\": {\"value\": \"16vci6n0TWU1mm11bh\"}});' target=\"_blank\"> <img alt=\"\" class=\"thumb_img\" data-size=\"80x80\" height=\"80\" onerror=\"SF.errorImage(this)\" src=\"https://search1.daumcdn.net/thumb/P200x200/?fname=https%3A%2F%2Fsearch1.kakaocdn.net%2Fargon%2F200x200_85_c%2FGDLK7JhmvL0\" width=\"80\"/> </a> </div> <div class=\"wrap_cont\"> <a class=\"tit_main fn_tit_u\" href=\"https://cp.news.search.daum.net/p/114844829\" onclick='smartLog(this, \"dc=NNS&amp;d=263IL5nNuFYpjaUdOF&amp;pg=1&amp;r=9&amp;p=4&amp;rc=10&amp;e1=16vci6n0TWU1mm11bh&amp;e3=0&amp;ext=dsid=263IL5nNuFYpjaUdOF\", event, {\"cpid\": {\"value\": \"16vci6n0TWU1mm11bh\"}});' target=\"_blank\">조영식 <b>SD</b>바이오센서 회장, 500대 주식부호 20위 올라서</a> <p class=\"desc\">조영식 <b>SD</b>바이오센서 회장이 국내 500대 주식부호에 새롭게 이름을 올렸다. 신종 코로나바이러스 감염증(코로나19) 진단키트를 통해 급성장한 이 회사는 지난해 유가증권시장에도 상장했다.9일 기업데이터연구소 CEO스코어가 2021년 12월30일 종가 기준 국내 상장사...</p> <span class=\"cont_info\"> <span class=\"f_nb\">CEO스코어데일리</span> <span class=\"f_nb\">2022.01.09</span> </span> <span id=\"newsSQC_t1_8\" style=\"display:none;\">10301^https://cp.news.search.daum.net/p/114844829^263IL5nNuFYpjaUdOF^news^mediaArticle^sd^263IL5nNuFYpjaUdOF</span> </div> </li>, <li> <div class=\"wrap_thumb\" id=\"news_img_9\"> <a class=\"thumb\" href=\"https://cp.news.search.daum.net/p/114702282\" onclick='smartLog(this, \"dc=NNS&amp;d=26UUY3NUFOuUIL522e&amp;pg=1&amp;r=10&amp;p=1&amp;rc=10&amp;e1=165iEkBcM5hFwBkBcV&amp;e3=0&amp;ext=dsid=26UUY3NUFOuUIL522e\", event, {\"cpid\": {\"value\": \"165iEkBcM5hFwBkBcV\"}});' target=\"_blank\"> <img alt=\"\" class=\"thumb_img\" data-size=\"80x80\" height=\"80\" onerror=\"SF.errorImage(this)\" src=\"https://search1.daumcdn.net/thumb/P200x200/?fname=https%3A%2F%2Fsearch1.kakaocdn.net%2Fargon%2F200x200_85_c%2F3EnpiZXn2B10\" width=\"80\"/> </a> </div> <div class=\"wrap_cont\"> <a class=\"tit_main fn_tit_u\" href=\"https://cp.news.search.daum.net/p/114702282\" onclick='smartLog(this, \"dc=NNS&amp;d=26UUY3NUFOuUIL522e&amp;pg=1&amp;r=10&amp;p=4&amp;rc=10&amp;e1=165iEkBcM5hFwBkBcV&amp;e3=0&amp;ext=dsid=26UUY3NUFOuUIL522e\", event, {\"cpid\": {\"value\": \"165iEkBcM5hFwBkBcV\"}});' target=\"_blank\"><b>SD</b> Biosensor export Covid-19 antibody test kits worth ￦138.7 billion</a> <p class=\"desc\"><b>SD</b> Biosensor said it had signed a contract with a Canadian company to supply 138.7 billion won ($116.2 million) worth of \"STANDARD Q COVID-19 Ag Nasal with Control,\" its Covid-19 antigen rapid diagnosis kit. The contract accounts for about 8.23...</p> <span class=\"cont_info\"> <span class=\"f_nb\">Korea Biomedical Review</span> <span class=\"f_nb\">2022.01.04</span> </span> <span id=\"newsSQC_t1_9\" style=\"display:none;\">10301^https://cp.news.search.daum.net/p/114702282^26UUY3NUFOuUIL522e^news^mediaArticle^sd^26UUY3NUFOuUIL522e</span> </div> </li>]\n"
     ]
    }
   ],
   "source": [
    "word = input(\"검색값을 입력해주세요\")\n",
    "url = f\"https://search.daum.net/search?w=news&nil_search=btn&DA=NTB&enc=utf8&cluster=y&cluster_page=1&q={word}\"\n",
    "request = requests.get(url)\n",
    "soup = BeautifulSoup(request.text, 'html.parser')\n",
    "tags = soup.select(path)\n",
    "\n"
   ]
  },
  {
   "cell_type": "code",
   "execution_count": null,
   "id": "414aa948",
   "metadata": {},
   "outputs": [],
   "source": []
  },
  {
   "cell_type": "code",
   "execution_count": null,
   "id": "24259446",
   "metadata": {},
   "outputs": [],
   "source": [
    "# 키워드를 입력받은 후 다음 뉴스페이지에서 제목, URL, summary, 언론사, 시간을 10페이지를 \n",
    "# 크롤링해서 출력하는"
   ]
  },
  {
   "cell_type": "code",
   "execution_count": 231,
   "id": "f3f75cbd",
   "metadata": {},
   "outputs": [
    {
     "name": "stdout",
     "output_type": "stream",
     "text": [
      "키워드를 입력하세요 : 빅데이터\n",
      "크롤링할 페이지수를 정하시오 : 1\n",
      "\n",
      "1 Page\n",
      "===================\n",
      "<script type=\"text/javascript\">\n",
      "location.replace( \"http://ncaptcha.search.daum.net/captcha/show?redirect=http%3A%2F%2Fsearch.daum.net%2Fsearch%3Fnil_suggest%3Dbtn%26w%3Dnews%26DA%3DPGD%26q%3D%25EB%25B9%2585%25EB%258D%25B0%25EC%259D%25B4%25ED%2584%25B0%26p%3D1\" );\n",
      "</script>\n",
      "\n"
     ]
    },
    {
     "ename": "AttributeError",
     "evalue": "'NoneType' object has no attribute 'find_all'",
     "output_type": "error",
     "traceback": [
      "\u001b[1;31m---------------------------------------------------------------------------\u001b[0m",
      "\u001b[1;31mAttributeError\u001b[0m                            Traceback (most recent call last)",
      "\u001b[1;32m~\\AppData\\Local\\Temp/ipykernel_476/3996696590.py\u001b[0m in \u001b[0;36m<module>\u001b[1;34m\u001b[0m\n\u001b[0;32m     23\u001b[0m \u001b[0mpage_num\u001b[0m \u001b[1;33m=\u001b[0m \u001b[0mint\u001b[0m\u001b[1;33m(\u001b[0m\u001b[0minput\u001b[0m\u001b[1;33m(\u001b[0m\u001b[1;34m'크롤링할 페이지수를 정하시오 : '\u001b[0m\u001b[1;33m)\u001b[0m\u001b[1;33m)\u001b[0m\u001b[1;33m\u001b[0m\u001b[1;33m\u001b[0m\u001b[0m\n\u001b[0;32m     24\u001b[0m \u001b[0mprint\u001b[0m\u001b[1;33m(\u001b[0m\u001b[1;34m\"\"\u001b[0m\u001b[1;33m)\u001b[0m\u001b[1;33m\u001b[0m\u001b[1;33m\u001b[0m\u001b[0m\n\u001b[1;32m---> 25\u001b[1;33m \u001b[0mnews_searching\u001b[0m\u001b[1;33m(\u001b[0m\u001b[0mkey_word\u001b[0m\u001b[1;33m,\u001b[0m \u001b[0mpage_num\u001b[0m\u001b[1;33m)\u001b[0m\u001b[1;33m\u001b[0m\u001b[1;33m\u001b[0m\u001b[0m\n\u001b[0m",
      "\u001b[1;32m~\\AppData\\Local\\Temp/ipykernel_476/3996696590.py\u001b[0m in \u001b[0;36mnews_searching\u001b[1;34m(key_word, page_num)\u001b[0m\n\u001b[0;32m      8\u001b[0m         \u001b[0mprint\u001b[0m\u001b[1;33m(\u001b[0m\u001b[0msoup\u001b[0m\u001b[1;33m)\u001b[0m\u001b[1;33m\u001b[0m\u001b[1;33m\u001b[0m\u001b[0m\n\u001b[0;32m      9\u001b[0m         \u001b[0mul\u001b[0m \u001b[1;33m=\u001b[0m \u001b[0msoup\u001b[0m\u001b[1;33m.\u001b[0m\u001b[0mfind\u001b[0m\u001b[1;33m(\u001b[0m\u001b[1;34m\"ul\"\u001b[0m\u001b[1;33m,\u001b[0m \u001b[1;33m{\u001b[0m\u001b[1;34m\"class\"\u001b[0m\u001b[1;33m:\u001b[0m \u001b[1;34m\"list_news\"\u001b[0m\u001b[1;33m}\u001b[0m\u001b[1;33m)\u001b[0m\u001b[1;33m\u001b[0m\u001b[1;33m\u001b[0m\u001b[0m\n\u001b[1;32m---> 10\u001b[1;33m         \u001b[0mnews\u001b[0m \u001b[1;33m=\u001b[0m \u001b[0mul\u001b[0m\u001b[1;33m.\u001b[0m\u001b[0mfind_all\u001b[0m\u001b[1;33m(\u001b[0m\u001b[1;34m\"div\"\u001b[0m\u001b[1;33m,\u001b[0m \u001b[1;33m{\u001b[0m\u001b[1;34m\"class\"\u001b[0m\u001b[1;33m:\u001b[0m \u001b[1;34m\"wrap_cont\"\u001b[0m\u001b[1;33m}\u001b[0m\u001b[1;33m)\u001b[0m\u001b[1;33m\u001b[0m\u001b[1;33m\u001b[0m\u001b[0m\n\u001b[0m\u001b[0;32m     11\u001b[0m         \u001b[1;32mfor\u001b[0m \u001b[0mnew\u001b[0m \u001b[1;32min\u001b[0m \u001b[0mnews\u001b[0m\u001b[1;33m:\u001b[0m\u001b[1;33m\u001b[0m\u001b[1;33m\u001b[0m\u001b[0m\n\u001b[0;32m     12\u001b[0m             \u001b[0mprint\u001b[0m\u001b[1;33m(\u001b[0m\u001b[0mnew\u001b[0m\u001b[1;33m.\u001b[0m\u001b[0mfind\u001b[0m\u001b[1;33m(\u001b[0m\u001b[1;34m\"a\"\u001b[0m\u001b[1;33m)\u001b[0m\u001b[1;33m.\u001b[0m\u001b[0mtext\u001b[0m\u001b[1;33m)\u001b[0m\u001b[1;33m\u001b[0m\u001b[1;33m\u001b[0m\u001b[0m\n",
      "\u001b[1;31mAttributeError\u001b[0m: 'NoneType' object has no attribute 'find_all'"
     ]
    }
   ],
   "source": [
    "def news_searching(key_word, page_num):\n",
    "    for num in range(1, page_num+1):\n",
    "        print(f\"{num} Page\")\n",
    "        print(\"===================\")\n",
    "        url = f\"https://search.daum.net/search?nil_suggest=btn&w=news&DA=PGD&q={key_word}&p={num}\"\n",
    "        res = requests.get(url)\n",
    "        soup = BeautifulSoup(res.text, \"html.parser\")\n",
    "        print(soup)\n",
    "        ul = soup.find(\"ul\", {\"class\": \"list_news\"})\n",
    "        news = ul.find_all(\"div\", {\"class\": \"wrap_cont\"})\n",
    "        for new in news:\n",
    "            print(new.find(\"a\").text)\n",
    "            print(new.find(\"a\")[\"href\"])\n",
    "            print(new.find(\"p\").text)\n",
    "            a = new.find_all(\"span\", {\"class\": \"f_nb\"})\n",
    "            print(\"\")\n",
    "            print(a[0].text)\n",
    "            print(a[1].text)\n",
    "            print(\"===================\")\n",
    "            print('')\n",
    "            \n",
    "key_word = input(\"키워드를 입력하세요 : \")\n",
    "page_num = int(input('크롤링할 페이지수를 정하시오 : '))\n",
    "print(\"\")\n",
    "news_searching(key_word, page_num)"
   ]
  },
  {
   "cell_type": "code",
   "execution_count": null,
   "id": "4a52a6d7",
   "metadata": {},
   "outputs": [],
   "source": []
  },
  {
   "cell_type": "code",
   "execution_count": null,
   "id": "90c312a9",
   "metadata": {},
   "outputs": [],
   "source": []
  },
  {
   "cell_type": "code",
   "execution_count": null,
   "id": "bc629195",
   "metadata": {},
   "outputs": [],
   "source": []
  }
 ],
 "metadata": {
  "kernelspec": {
   "display_name": "Python 3 (ipykernel)",
   "language": "python",
   "name": "python3"
  },
  "language_info": {
   "codemirror_mode": {
    "name": "ipython",
    "version": 3
   },
   "file_extension": ".py",
   "mimetype": "text/x-python",
   "name": "python",
   "nbconvert_exporter": "python",
   "pygments_lexer": "ipython3",
   "version": "3.9.7"
  }
 },
 "nbformat": 4,
 "nbformat_minor": 5
}
